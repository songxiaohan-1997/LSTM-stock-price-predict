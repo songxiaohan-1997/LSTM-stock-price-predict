{
 "cells": [
  {
   "cell_type": "markdown",
   "metadata": {},
   "source": [
    "# Predicting Stock Price Movement and Volatility using Multimodal & Multitask Deep Learning  "
   ]
  },
  {
   "cell_type": "markdown",
   "metadata": {},
   "source": [
    "#### Multimodal: \n",
    "Using price data and stock data as two inputs in two separate LSTMs and then concatenating them to form the model\n",
    "#### Multitask: \n",
    "Predicting Volatility (continuous measure) and Price Movement Direction (discrete: up or down) using a single model"
   ]
  },
  {
   "cell_type": "markdown",
   "metadata": {},
   "source": [
    "#### Datasets used:\n",
    "##### 1. News Data \n",
    "Crawled Historical News Headlines from Reddit WorldNews Channel. It has top 25 headlines for each date from August 2008 to July 2016, i.e 8 years.\n",
    "##### 2. Stock Data\n",
    "Dow Jones Industrial Average (DJIA) OHLCV (Open, High, Low, Close, Volume) tuple for each trading day from August 2008 to July 2016."
   ]
  },
  {
   "cell_type": "markdown",
   "metadata": {},
   "source": [
    "#### Import\n",
    "Importing the required libraries as well as preprocessing code."
   ]
  },
  {
   "cell_type": "code",
   "execution_count": 1,
   "metadata": {
    "scrolled": true
   },
   "outputs": [
    {
     "name": "stderr",
     "output_type": "stream",
     "text": [
      "Using TensorFlow backend.\n"
     ]
    }
   ],
   "source": [
    "#Importing the required libraries as well as preprocessing code.\n",
    "%matplotlib inline\n",
    "from process_data import *\n",
    "from sklearn import preprocessing\n",
    "import numpy as np\n",
    "import os\n",
    "os.environ['KERAS_BACKEND']='tensorflow'\n",
    "from keras.models import Sequential\n",
    "from keras.models import Model\n",
    "from keras.layers.core import Dense, Dropout, Activation, Flatten, Permute\n",
    "from keras.layers import merge, Input, concatenate, average, add\n",
    "from keras.layers.recurrent import LSTM, GRU\n",
    "from keras.layers import Convolution1D, MaxPooling1D, AtrousConvolution1D, RepeatVector, AveragePooling1D\n",
    "from keras.callbacks import ModelCheckpoint, ReduceLROnPlateau, CSVLogger\n",
    "from keras.layers.wrappers import Bidirectional, TimeDistributed\n",
    "from keras import regularizers\n",
    "from keras.layers.normalization import BatchNormalization\n",
    "from keras.layers.advanced_activations import *\n",
    "from keras.optimizers import RMSprop, Adam, SGD, Nadam\n",
    "from keras.initializers import *\n",
    "from keras.constraints import *\n",
    "from keras import regularizers\n",
    "from keras import losses\n",
    "import matplotlib.pyplot as plt\n",
    "from sklearn import svm, datasets\n",
    "from sklearn.model_selection import train_test_split\n",
    "from sklearn.metrics import confusion_matrix\n",
    "import heapq"
   ]
  },
  {
   "cell_type": "code",
   "execution_count": 2,
   "metadata": {},
   "outputs": [],
   "source": [
    "from keras.layers import concatenate\n",
    "from keras.layers.merge import Concatenate, Average \n",
    "#merge = concatenate([tensor1, tensor2], axis=3)"
   ]
  },
  {
   "cell_type": "code",
   "execution_count": 3,
   "metadata": {},
   "outputs": [],
   "source": [
    "import _pickle as cPickle"
   ]
  },
  {
   "cell_type": "markdown",
   "metadata": {},
   "source": [
    "#### Load Data\n",
    "Loading the price & news data and splitting each into test & training set. The sentences are converted to lists vectors of 100 dimensions using Google Word2Vec. Variables used are:\n",
    "\n",
    "X_train : Time series data\n",
    "\n",
    "X_train_text : word2vec decoded text data\n",
    "\n",
    "Y_train : Labels for voaltility\n",
    "\n",
    "Y_train2 : Labels for classification (movement direction)"
   ]
  },
  {
   "cell_type": "code",
   "execution_count": 4,
   "metadata": {},
   "outputs": [
    {
     "name": "stderr",
     "output_type": "stream",
     "text": [
      "C:\\Users\\Lenovo X240\\Finance project stock price prediction\\process_data.py:34: FutureWarning: Comparing Series of datetimes with 'datetime.date'.  Currently, the\n",
      "'datetime.date' is coerced to a datetime. In the future pandas will\n",
      "not coerce, and a TypeError will be raised. To retain the current\n",
      "behavior, convert the 'datetime.date' to a datetime with\n",
      "'pd.Timestamp'.\n",
      "  train = df.loc[(pd.to_datetime(df[\"Date\"]) <= date_split),['Label','Combined']]\n",
      "C:\\Users\\Lenovo X240\\Finance project stock price prediction\\process_data.py:35: FutureWarning: Comparing Series of datetimes with 'datetime.date'.  Currently, the\n",
      "'datetime.date' is coerced to a datetime. In the future pandas will\n",
      "not coerce, and a TypeError will be raised. To retain the current\n",
      "behavior, convert the 'datetime.date' to a datetime with\n",
      "'pd.Timestamp'.\n",
      "  test = df.loc[(pd.to_datetime(df[\"Date\"]) > date_split),['Label','Combined']]\n",
      "C:\\Users\\Lenovo X240\\Finance project stock price prediction\\process_data.py:48: FutureWarning: Comparing Series of datetimes with 'datetime.date'.  Currently, the\n",
      "'datetime.date' is coerced to a datetime. In the future pandas will\n",
      "not coerce, and a TypeError will be raised. To retain the current\n",
      "behavior, convert the 'datetime.date' to a datetime with\n",
      "'pd.Timestamp'.\n",
      "  train2 = data_original.loc[(pd.to_datetime(data_original[\"Date\"]) <= date_split)]\n",
      "C:\\Users\\Lenovo X240\\Finance project stock price prediction\\process_data.py:49: FutureWarning: Comparing Series of datetimes with 'datetime.date'.  Currently, the\n",
      "'datetime.date' is coerced to a datetime. In the future pandas will\n",
      "not coerce, and a TypeError will be raised. To retain the current\n",
      "behavior, convert the 'datetime.date' to a datetime with\n",
      "'pd.Timestamp'.\n",
      "  test2 = data_original.loc[(pd.to_datetime(data_original[\"Date\"]) > date_split)]\n"
     ]
    },
    {
     "name": "stdout",
     "output_type": "stream",
     "text": [
      "(1611, 5)\n",
      "(378, 5)\n"
     ]
    }
   ],
   "source": [
    "#divide data into trainning part and test part\n",
    "train, test = load_text_csv()\n",
    "data_chng_train, data_chng_test = load_ts_csv()\n",
    "test=pd.DataFrame(data=data_chng_test)\n",
    "test.to_csv('test.csv',encoding='utf-8')"
   ]
  },
  {
   "cell_type": "code",
   "execution_count": 5,
   "metadata": {},
   "outputs": [],
   "source": [
    "#dump data into cPickle file\n",
    "train_text = cPickle.load(open('train_text.p', 'rb'))[1:]\n",
    "test_text = cPickle.load(open('test_text.p', 'rb'))[1:]"
   ]
  },
  {
   "cell_type": "code",
   "execution_count": 6,
   "metadata": {},
   "outputs": [],
   "source": [
    "#use vector support machine to turn text data into vector\n",
    "train_text_vectors, test_text_vectors, model = transform_text_into_vectors(train_text, test_text, 100)\n",
    "#the dimension of each vector is 100\n",
    "f = open(\"test2.txt\", 'w+')\n",
    "print(train_text_vectors, file=f)\n"
   ]
  },
  {
   "cell_type": "code",
   "execution_count": 7,
   "metadata": {},
   "outputs": [
    {
     "data": {
      "text/plain": [
       "array([-0.6593814 , -0.0560312 , -0.18947667, -0.1778777 ,  0.19271293,\n",
       "       -0.13249396, -0.1160062 , -0.09110744,  0.29757598, -0.02911181,\n",
       "       -0.20013045, -0.3002018 , -0.06915292,  0.06157104, -0.18059644,\n",
       "       -0.40010566, -0.40304878,  0.37613007,  0.2810813 , -0.12090328,\n",
       "        0.07931337,  0.14065279, -0.2309055 , -0.44517192,  0.27331364,\n",
       "        0.19429228,  0.04726438,  0.06684861,  0.38339198,  0.15422839,\n",
       "       -0.25083557, -0.5001554 , -0.17155677,  0.52165526, -0.00713923,\n",
       "        0.31680712,  0.5688122 , -0.26739404,  0.10021865, -0.32102725,\n",
       "        0.55799234, -0.36245453, -0.53553975, -0.03642122,  0.34727284,\n",
       "       -0.41763833,  0.3902075 ,  0.316021  ,  0.00985824, -0.00119006,\n",
       "        0.17464621,  0.58483064,  0.23962602, -0.02677333,  0.05655961,\n",
       "       -0.14482951,  0.20425811, -0.20477921, -0.04865098,  0.3044222 ,\n",
       "       -0.36107007, -0.09508139,  0.03483608,  0.43174917, -0.7093214 ,\n",
       "        0.25948274,  0.07957477, -0.19884162,  0.43703866,  0.15372528,\n",
       "       -0.44788572, -0.32048076, -0.39827868, -0.12424751,  0.24404974,\n",
       "        0.5249826 ,  0.14194354, -0.38769802,  0.02210818,  0.23279813,\n",
       "        0.7284095 ,  0.06511636,  0.504037  ,  0.00495971,  0.18727973,\n",
       "        0.42626828, -0.21134399,  0.27257398,  1.1512952 , -0.23452464,\n",
       "       -0.36266756, -0.1066083 ,  0.83992106,  0.14004686,  0.41025844,\n",
       "       -0.32754746,  0.29007286,  0.4152064 ,  0.55675054,  0.37732673],\n",
       "      dtype=float32)"
      ]
     },
     "execution_count": 7,
     "metadata": {},
     "output_type": "execute_result"
    }
   ],
   "source": [
    "train_text_vectors[0]"
   ]
  },
  {
   "cell_type": "code",
   "execution_count": 8,
   "metadata": {},
   "outputs": [],
   "source": [
    "#X_train, X_train_text, Y_train, Y_train2 = split_into_XY(data_chng_train, train_text_vectors, 1, 30, 1)\n",
    "#X_test, X_test_text, Y_test, Y_test2 = split_into_XY(data_chng_test, test_text_vectors, 1, 30, 1)"
   ]
  },
  {
   "cell_type": "code",
   "execution_count": 9,
   "metadata": {},
   "outputs": [],
   "source": [
    "#split data for train into windows\n",
    "step=1\n",
    "window=5\n",
    "forecast=3\n",
    "X_train, X_train_text, Y_train, Y_train2= [], [], [], []\n",
    "for i in range(0, len(data_chng_train)-window-forecast, step): \n",
    "    try:\n",
    "        x_i = data_chng_train[i:i+window]\n",
    "        y_i = np.std(np.array(data_chng_train[i+window-forecast:i+window+forecast])[:,3])#volatility of stock price in each window close\n",
    "\n",
    "        text_average = train_text_vectors[i:i+window]\n",
    "        last_close = x_i[-1]#last\n",
    "\n",
    "        y_i2 = None\n",
    "        if np.mean(np.array(data_chng_train[i+window-forecast:i+window+forecast])[:,3]) > 0.:\n",
    "            y_i2 = 1.\n",
    "        else:\n",
    "            y_i2 = 0.\n",
    "\n",
    "    except Exception as e:\n",
    "        print ('KEK')\n",
    "        print (e)\n",
    "    #break\n",
    "    x_i=x_i.tolist()\n",
    "    X_train.append(x_i)#x_i is the data in each window\n",
    "    X_train_text.append(text_average)#step_number*window*（100）text_average is the text data in the targeted days(days in window) \n",
    "    Y_train.append(y_i)#step number*window*1 the changing rate vector\n",
    "    Y_train2.append(y_i2)#step number*1 trend for each window(0 or 1)\n",
    "#print(y_i)\n",
    "#print(X_train)\n",
    "#print(X_train_text)\n",
    "#print(Y_train2)\n",
    "#i\n",
    "X_train, X_train_text, Y_train, Y_train2 = np.array(X_train), np.array(X_train_text), np.array(Y_train), np.array(Y_train2)"
   ]
  },
  {
   "cell_type": "code",
   "execution_count": 10,
   "metadata": {},
   "outputs": [
    {
     "name": "stdout",
     "output_type": "stream",
     "text": [
      "369\n"
     ]
    }
   ],
   "source": [
    "#split data for test into windows\n",
    "step=1\n",
    "window=5\n",
    "forecast=3\n",
    "X_test, X_test_text, Y_test, Y_test2= [], [], [], []\n",
    "for i in range(0, len(data_chng_test)-window-forecast, step): \n",
    "    try:\n",
    "        x_i = data_chng_test[i:i+window]\n",
    "        s=0\n",
    "        y_i = np.std(np.array(data_chng_test[i+window-forecast:i+window+forecast])[:,3])#volatility of stock price in each window close\n",
    "\n",
    "        text_average = train_text_vectors[i:i+window]\n",
    "        last_close = x_i[-1]#last\n",
    "\n",
    "        y_i2 = None\n",
    "        if np.mean(np.array(data_chng_test[i+window-forecast:i+window+forecast])[:,3]) > 0.:#if stock price increase on the day after window then 1\n",
    "            y_i2 = 1.\n",
    "        else:\n",
    "            y_i2 = 0.\n",
    "\n",
    "    except Exception as e:\n",
    "        print ('KEK')\n",
    "        print (e)\n",
    "    #break\n",
    "    x_i=x_i.tolist()\n",
    "    X_test.append(x_i)\n",
    "    X_test_text.append(text_average)\n",
    "    Y_test.append(y_i)\n",
    "    Y_test2.append(y_i2)\n",
    "#print(y_i)\n",
    "#print(X_test)\n",
    "#print(X_test_text)\n",
    "#print(Y_test2)\n",
    "print(i)\n",
    "X_test, X_test_text, Y_test, Y_test2 = np.array(X_test), np.array(X_test_text), np.array(Y_test), np.array(Y_test2)"
   ]
  },
  {
   "cell_type": "code",
   "execution_count": 11,
   "metadata": {},
   "outputs": [
    {
     "data": {
      "text/plain": [
       "array([ 0.00271206, -0.00165156,  0.01336408, -0.0359198 , -0.0180965 ,\n",
       "        0.01777017,  0.01703267,  0.01356504])"
      ]
     },
     "execution_count": 11,
     "metadata": {},
     "output_type": "execute_result"
    }
   ],
   "source": [
    "np.std(data_chng_test[i:i+window+forecast][3])\n",
    "i+window+forecast\n",
    "i\n",
    "a=np.array(data_chng_test[i:i+window+forecast])\n",
    "a[:,3]\n",
    "#np.matrix(data_chng_test[i:i+window+forecast])[3]\n",
    "#print(data_chng_test[i])\n",
    "#print(data_chng_test[i][3])\n",
    "#print(data_chng_test[i+window+forecast][3])"
   ]
  },
  {
   "cell_type": "code",
   "execution_count": 12,
   "metadata": {},
   "outputs": [
    {
     "name": "stdout",
     "output_type": "stream",
     "text": [
      "(1603, 5, 5)\n",
      "(1603, 5, 100)\n",
      "(1603,)\n",
      "(1603,)\n",
      "(370, 5, 5)\n",
      "(370, 5, 100)\n",
      "(370,)\n",
      "(370,)\n",
      "378\n"
     ]
    }
   ],
   "source": [
    "print(X_train.shape)\n",
    "print(X_train_text.shape)\n",
    "print(Y_train.shape)\n",
    "print(Y_train2.shape)\n",
    "print(X_test.shape)\n",
    "print(X_test_text.shape)\n",
    "print(Y_test.shape)\n",
    "print(Y_test.shape)\n",
    "print(len(data_chng_test))"
   ]
  },
  {
   "cell_type": "code",
   "execution_count": 13,
   "metadata": {},
   "outputs": [],
   "source": [
    "\n",
    "X_train = np.reshape(X_train, (X_train.shape[0], X_train.shape[1],5))\n",
    "X_test = np.reshape(X_test, (X_test.shape[0], X_test.shape[1],5))\n",
    " "
   ]
  },
  {
   "cell_type": "markdown",
   "metadata": {},
   "source": [
    "#### Model Design\n",
    "The model is made by concatenating two LSTMs, one (lstm1) takes OHLCV tuple as input and the other (lstm2) takes vector representation of news data. The two outputs of the model are volatility (standard deviation - x1) and price movement direction (up or down - x2)"
   ]
  },
  {
   "cell_type": "code",
   "execution_count": 14,
   "metadata": {},
   "outputs": [
    {
     "name": "stderr",
     "output_type": "stream",
     "text": [
      "2019-04-09 23:20:07,638: WARNING: From C:\\Users\\Lenovo X240\\Anaconda3\\lib\\site-packages\\tensorflow\\python\\framework\\op_def_library.py:263: colocate_with (from tensorflow.python.framework.ops) is deprecated and will be removed in a future version.\n",
      "Instructions for updating:\n",
      "Colocations handled automatically by placer.\n",
      "2019-04-09 23:20:07,716: WARNING: From C:\\Users\\Lenovo X240\\Anaconda3\\lib\\site-packages\\keras\\backend\\tensorflow_backend.py:1150: calling reduce_sum_v1 (from tensorflow.python.ops.math_ops) with keep_dims is deprecated and will be removed in a future version.\n",
      "Instructions for updating:\n",
      "keep_dims is deprecated, use keepdims instead\n",
      "2019-04-09 23:20:07,743: WARNING: From C:\\Users\\Lenovo X240\\Anaconda3\\lib\\site-packages\\keras\\backend\\tensorflow_backend.py:2837: calling dropout (from tensorflow.python.ops.nn_ops) with keep_prob is deprecated and will be removed in a future version.\n",
      "Instructions for updating:\n",
      "Please use `rate` instead of `keep_prob`. Rate should be set to `rate = 1 - keep_prob`.\n",
      "2019-04-09 23:20:08,678: WARNING: From C:\\Users\\Lenovo X240\\Anaconda3\\lib\\site-packages\\keras\\backend\\tensorflow_backend.py:1168: calling reduce_prod_v1 (from tensorflow.python.ops.math_ops) with keep_dims is deprecated and will be removed in a future version.\n",
      "Instructions for updating:\n",
      "keep_dims is deprecated, use keepdims instead\n"
     ]
    }
   ],
   "source": [
    "#build LSTM model,input price and text data and use regression to predict the volatility and the trend.\n",
    "main_input = Input(shape=(5, 5), name='ts_input')\n",
    "text_input = Input(shape=(5, 100), name='text_input')\n",
    "lstm1 = LSTM( units=4, return_sequences=True, recurrent_dropout=0.25, dropout=0.25, bias_initializer='ones')(main_input)\n",
    "lstm1 = LSTM(5, return_sequences=True, recurrent_dropout=0.25, dropout=0.25, bias_initializer='ones')(lstm1)\n",
    "lstm1 = Flatten()(lstm1)\n",
    "lstm2 = LSTM(2, return_sequences=True, recurrent_dropout=0.25, dropout=0.25, bias_initializer='ones')(text_input)\n",
    "lstm2 = LSTM(3, return_sequences=True, recurrent_dropout=0.25, dropout=0.25, bias_initializer='ones')(lstm2)\n",
    "lstm2 = Flatten()(lstm2)\n",
    "\n",
    "\n",
    "lstms = concatenate([lstm1, lstm2])\n",
    "\n",
    "\n",
    "x1 = Dense(64)(lstms)\n",
    "#the dimension of output is 64\n",
    "x1 = LeakyReLU()(x1)\n",
    "x1 = Dense(1, activation = 'linear', name='regression')(x1)\n",
    "\n",
    "x2 = Dense(64)(lstms)\n",
    "x2 = LeakyReLU()(x2)\n",
    "x2 = Dropout(0.9)(x2)\n",
    "x2 = Dense(1, activation = 'sigmoid', name = 'class')(x2)\n",
    "\n",
    "final_model = Model(inputs=[main_input, text_input], \n",
    "              outputs=[x1, x2])"
   ]
  },
  {
   "cell_type": "markdown",
   "metadata": {},
   "source": [
    "#### Training the Model\n",
    "Training parameter like loss, optimizer & learning rate are set as below.. Volatility error is measured using MSE & price movement direction by Binary Crossentropy."
   ]
  },
  {
   "cell_type": "code",
   "execution_count": 15,
   "metadata": {},
   "outputs": [],
   "source": [
    "#training the model\n",
    "opt = Nadam(lr=0.002, clipnorm = 0.5)\n",
    "#optimize the model,lr is the learning rate, clipnorm is to avoid gradient explosion and gradient disappear\n",
    "reduce_lr = ReduceLROnPlateau(monitor='val_loss', factor=0.9, patience=50, min_lr=0.000001, verbose=1)\n",
    "checkpointer = ModelCheckpoint(monitor='val_loss', filepath=\"model.hdf5\", verbose=1, save_best_only=True)\n",
    "final_model.compile(optimizer=opt, loss={'regression': 'mse', 'class': 'binary_crossentropy'}, loss_weights=[1., 0.2])\n",
    "#binary_crossentropy is always used to calculate the loss of Dichotomous(二分法)"
   ]
  },
  {
   "cell_type": "markdown",
   "metadata": {},
   "source": [
    "The training is performed for 100 epochs over the dataset with a batchsize of 220."
   ]
  },
  {
   "cell_type": "code",
   "execution_count": 16,
   "metadata": {
    "scrolled": true
   },
   "outputs": [
    {
     "name": "stderr",
     "output_type": "stream",
     "text": [
      "C:\\Users\\Lenovo X240\\Anaconda3\\lib\\site-packages\\ipykernel_launcher.py:6: UserWarning: The `nb_epoch` argument in `fit` has been renamed `epochs`.\n",
      "  \n",
      "2019-04-09 23:20:09,932: WARNING: From C:\\Users\\Lenovo X240\\Anaconda3\\lib\\site-packages\\tensorflow\\python\\ops\\math_ops.py:3066: to_int32 (from tensorflow.python.ops.math_ops) is deprecated and will be removed in a future version.\n",
      "Instructions for updating:\n",
      "Use tf.cast instead.\n"
     ]
    },
    {
     "name": "stdout",
     "output_type": "stream",
     "text": [
      "Train on 1603 samples, validate on 370 samples\n",
      "Epoch 1/200\n",
      "1450/1603 [==========================>...] - ETA: 0s - loss: 0.1641 - regression_loss: 0.0103 - class_loss: 0.7689Epoch 00000: val_loss improved from inf to 0.14310, saving model to model.hdf5\n",
      "1603/1603 [==============================] - 6s - loss: 0.1620 - regression_loss: 0.0099 - class_loss: 0.7605 - val_loss: 0.1431 - val_regression_loss: 0.0017 - val_class_loss: 0.7071\n",
      "Epoch 2/200\n",
      "1550/1603 [============================>.] - ETA: 0s - loss: 0.1447 - regression_loss: 0.0053 - class_loss: 0.6974Epoch 00001: val_loss improved from 0.14310 to 0.13735, saving model to model.hdf5\n",
      "1603/1603 [==============================] - 0s - loss: 0.1444 - regression_loss: 0.0052 - class_loss: 0.6957 - val_loss: 0.1373 - val_regression_loss: 1.7709e-04 - val_class_loss: 0.6858\n",
      "Epoch 3/200\n",
      "1600/1603 [============================>.] - ETA: 0s - loss: 0.1390 - regression_loss: 0.0023 - class_loss: 0.6833Epoch 00002: val_loss improved from 0.13735 to 0.13702, saving model to model.hdf5\n",
      "1603/1603 [==============================] - 0s - loss: 0.1390 - regression_loss: 0.0023 - class_loss: 0.6834 - val_loss: 0.1370 - val_regression_loss: 5.9823e-05 - val_class_loss: 0.6848\n",
      "Epoch 4/200\n",
      "1450/1603 [==========================>...] - ETA: 0s - loss: 0.1368 - regression_loss: 0.0027 - class_loss: 0.6704Epoch 00003: val_loss did not improve\n",
      "1603/1603 [==============================] - 0s - loss: 0.1370 - regression_loss: 0.0026 - class_loss: 0.6719 - val_loss: 0.1398 - val_regression_loss: 0.0018 - val_class_loss: 0.6902\n",
      "Epoch 5/200\n",
      "1450/1603 [==========================>...] - ETA: 0s - loss: 0.1374 - regression_loss: 0.0014 - class_loss: 0.6801Epoch 00004: val_loss did not improve\n",
      "1603/1603 [==============================] - 0s - loss: 0.1374 - regression_loss: 0.0014 - class_loss: 0.6804 - val_loss: 0.1373 - val_regression_loss: 1.7745e-05 - val_class_loss: 0.6865\n",
      "Epoch 6/200\n",
      "1450/1603 [==========================>...] - ETA: 0s - loss: 0.1372 - regression_loss: 3.3136e-04 - class_loss: 0.6843Epoch 00005: val_loss did not improve\n",
      "1603/1603 [==============================] - 0s - loss: 0.1365 - regression_loss: 3.2299e-04 - class_loss: 0.6809 - val_loss: 0.1372 - val_regression_loss: 5.1205e-05 - val_class_loss: 0.6859\n",
      "Epoch 7/200\n",
      "1450/1603 [==========================>...] - ETA: 0s - loss: 0.1393 - regression_loss: 0.0031 - class_loss: 0.6807Epoch 00006: val_loss did not improve\n",
      "1603/1603 [==============================] - 0s - loss: 0.1389 - regression_loss: 0.0029 - class_loss: 0.6803 - val_loss: 0.1375 - val_regression_loss: 2.4257e-04 - val_class_loss: 0.6863\n",
      "Epoch 8/200\n",
      "1450/1603 [==========================>...] - ETA: 0s - loss: 0.1360 - regression_loss: 2.6825e-04 - class_loss: 0.6785Epoch 00007: val_loss did not improve\n",
      "1603/1603 [==============================] - 0s - loss: 0.1362 - regression_loss: 2.6619e-04 - class_loss: 0.6795 - val_loss: 0.1371 - val_regression_loss: 1.8501e-04 - val_class_loss: 0.6847\n",
      "Epoch 9/200\n",
      "1450/1603 [==========================>...] - ETA: 0s - loss: 0.1365 - regression_loss: 5.7251e-04 - class_loss: 0.6797Epoch 00008: val_loss did not improve\n",
      "1603/1603 [==============================] - 0s - loss: 0.1367 - regression_loss: 5.4121e-04 - class_loss: 0.6807 - val_loss: 0.1377 - val_regression_loss: 2.5250e-05 - val_class_loss: 0.6886\n",
      "Epoch 10/200\n",
      "1450/1603 [==========================>...] - ETA: 0s - loss: 0.1352 - regression_loss: 2.0824e-04 - class_loss: 0.6751Epoch 00009: val_loss did not improve\n",
      "1603/1603 [==============================] - 0s - loss: 0.1357 - regression_loss: 2.1994e-04 - class_loss: 0.6772 - val_loss: 0.1375 - val_regression_loss: 3.5657e-04 - val_class_loss: 0.6859\n",
      "Epoch 11/200\n",
      "1450/1603 [==========================>...] - ETA: 0s - loss: 0.1381 - regression_loss: 0.0012 - class_loss: 0.6844  Epoch 00010: val_loss did not improve\n",
      "1603/1603 [==============================] - 0s - loss: 0.1378 - regression_loss: 0.0013 - class_loss: 0.6822 - val_loss: 0.1383 - val_regression_loss: 0.0010 - val_class_loss: 0.6865\n",
      "Epoch 12/200\n",
      "1450/1603 [==========================>...] - ETA: 0s - loss: 0.1357 - regression_loss: 3.2016e-04 - class_loss: 0.6769Epoch 00011: val_loss did not improve\n",
      "1603/1603 [==============================] - 0s - loss: 0.1359 - regression_loss: 3.0936e-04 - class_loss: 0.6778 - val_loss: 0.1377 - val_regression_loss: 4.4296e-05 - val_class_loss: 0.6884\n",
      "Epoch 13/200\n",
      "1450/1603 [==========================>...] - ETA: 0s - loss: 0.1356 - regression_loss: 1.8115e-04 - class_loss: 0.6771Epoch 00012: val_loss did not improve\n",
      "1603/1603 [==============================] - 0s - loss: 0.1357 - regression_loss: 1.9976e-04 - class_loss: 0.6776 - val_loss: 0.1376 - val_regression_loss: 2.1531e-04 - val_class_loss: 0.6868\n",
      "Epoch 14/200\n",
      "1600/1603 [============================>.] - ETA: 0s - loss: 0.1358 - regression_loss: 2.5221e-04 - class_loss: 0.6775Epoch 00013: val_loss did not improve\n",
      "1603/1603 [==============================] - 0s - loss: 0.1357 - regression_loss: 2.5268e-04 - class_loss: 0.6772 - val_loss: 0.1383 - val_regression_loss: 5.2741e-04 - val_class_loss: 0.6890\n",
      "Epoch 15/200\n",
      "1450/1603 [==========================>...] - ETA: 0s - loss: 0.1359 - regression_loss: 5.3037e-04 - class_loss: 0.6769Epoch 00014: val_loss did not improve\n",
      "1603/1603 [==============================] - 0s - loss: 0.1365 - regression_loss: 5.1761e-04 - class_loss: 0.6801 - val_loss: 0.1374 - val_regression_loss: 8.4965e-05 - val_class_loss: 0.6868\n",
      "Epoch 16/200\n",
      "1600/1603 [============================>.] - ETA: 0s - loss: 0.1360 - regression_loss: 3.8485e-04 - class_loss: 0.6781Epoch 00015: val_loss did not improve\n",
      "1603/1603 [==============================] - 0s - loss: 0.1360 - regression_loss: 3.8435e-04 - class_loss: 0.6780 - val_loss: 0.1375 - val_regression_loss: 2.3829e-05 - val_class_loss: 0.6872\n",
      "Epoch 17/200\n",
      "1600/1603 [============================>.] - ETA: 0s - loss: 0.1347 - regression_loss: 2.6538e-04 - class_loss: 0.6723Epoch 00016: val_loss did not improve\n",
      "1603/1603 [==============================] - 0s - loss: 0.1347 - regression_loss: 2.6701e-04 - class_loss: 0.6723 - val_loss: 0.1396 - val_regression_loss: 0.0020 - val_class_loss: 0.6882\n",
      "Epoch 18/200\n",
      "1450/1603 [==========================>...] - ETA: 0s - loss: 0.1368 - regression_loss: 0.0017 - class_loss: 0.6755Epoch 00017: val_loss did not improve\n",
      "1603/1603 [==============================] - 0s - loss: 0.1365 - regression_loss: 0.0015 - class_loss: 0.6746 - val_loss: 0.1378 - val_regression_loss: 7.0870e-05 - val_class_loss: 0.6884\n",
      "Epoch 19/200\n",
      "1450/1603 [==========================>...] - ETA: 0s - loss: 0.1349 - regression_loss: 1.4672e-04 - class_loss: 0.6736Epoch 00018: val_loss did not improve\n",
      "1603/1603 [==============================] - 0s - loss: 0.1353 - regression_loss: 1.5729e-04 - class_loss: 0.6759 - val_loss: 0.1376 - val_regression_loss: 2.1771e-05 - val_class_loss: 0.6880\n",
      "Epoch 20/200\n",
      "1450/1603 [==========================>...] - ETA: 0s - loss: 0.1343 - regression_loss: 1.2284e-04 - class_loss: 0.6708Epoch 00019: val_loss did not improve\n",
      "1603/1603 [==============================] - 0s - loss: 0.1347 - regression_loss: 1.2498e-04 - class_loss: 0.6731 - val_loss: 0.1372 - val_regression_loss: 1.7817e-05 - val_class_loss: 0.6858\n",
      "Epoch 21/200\n",
      "1450/1603 [==========================>...] - ETA: 0s - loss: 0.1356 - regression_loss: 1.1445e-04 - class_loss: 0.6777Epoch 00020: val_loss did not improve\n",
      "1603/1603 [==============================] - 0s - loss: 0.1357 - regression_loss: 1.2924e-04 - class_loss: 0.6779 - val_loss: 0.1376 - val_regression_loss: 3.1734e-05 - val_class_loss: 0.6878\n",
      "Epoch 22/200\n",
      "1450/1603 [==========================>...] - ETA: 0s - loss: 0.1353 - regression_loss: 1.3655e-04 - class_loss: 0.6759Epoch 00021: val_loss did not improve\n",
      "1603/1603 [==============================] - 0s - loss: 0.1354 - regression_loss: 1.3071e-04 - class_loss: 0.6763 - val_loss: 0.1378 - val_regression_loss: 1.3794e-04 - val_class_loss: 0.6881\n",
      "Epoch 23/200\n",
      "1600/1603 [============================>.] - ETA: 0s - loss: 0.1355 - regression_loss: 1.5398e-04 - class_loss: 0.6769Epoch 00022: val_loss did not improve\n"
     ]
    },
    {
     "name": "stdout",
     "output_type": "stream",
     "text": [
      "1603/1603 [==============================] - 0s - loss: 0.1355 - regression_loss: 1.5373e-04 - class_loss: 0.6769 - val_loss: 0.1376 - val_regression_loss: 1.0552e-04 - val_class_loss: 0.6875\n",
      "Epoch 24/200\n",
      "1600/1603 [============================>.] - ETA: 0s - loss: 0.1348 - regression_loss: 2.7013e-04 - class_loss: 0.6729Epoch 00023: val_loss did not improve\n",
      "1603/1603 [==============================] - 0s - loss: 0.1349 - regression_loss: 2.6992e-04 - class_loss: 0.6731 - val_loss: 0.1372 - val_regression_loss: 1.8168e-05 - val_class_loss: 0.6860\n",
      "Epoch 25/200\n",
      "1450/1603 [==========================>...] - ETA: 0s - loss: 0.1353 - regression_loss: 1.3505e-04 - class_loss: 0.6760Epoch 00024: val_loss did not improve\n",
      "1603/1603 [==============================] - 0s - loss: 0.1352 - regression_loss: 1.3646e-04 - class_loss: 0.6751 - val_loss: 0.1372 - val_regression_loss: 3.8383e-05 - val_class_loss: 0.6859\n",
      "Epoch 26/200\n",
      "1450/1603 [==========================>...] - ETA: 0s - loss: 0.1350 - regression_loss: 1.3263e-04 - class_loss: 0.6743Epoch 00025: val_loss did not improve\n",
      "1603/1603 [==============================] - 0s - loss: 0.1347 - regression_loss: 1.3441e-04 - class_loss: 0.6727 - val_loss: 0.1374 - val_regression_loss: 7.0776e-05 - val_class_loss: 0.6865\n",
      "Epoch 27/200\n",
      "1600/1603 [============================>.] - ETA: 0s - loss: 0.1340 - regression_loss: 1.4439e-04 - class_loss: 0.6695Epoch 00026: val_loss did not improve\n",
      "1603/1603 [==============================] - 0s - loss: 0.1340 - regression_loss: 1.4466e-04 - class_loss: 0.6692 - val_loss: 0.1379 - val_regression_loss: 3.4589e-04 - val_class_loss: 0.6878\n",
      "Epoch 28/200\n",
      "1450/1603 [==========================>...] - ETA: 0s - loss: 0.1343 - regression_loss: 1.3395e-04 - class_loss: 0.6710Epoch 00027: val_loss did not improve\n",
      "1603/1603 [==============================] - 0s - loss: 0.1348 - regression_loss: 1.3206e-04 - class_loss: 0.6736 - val_loss: 0.1379 - val_regression_loss: 1.7671e-05 - val_class_loss: 0.6893\n",
      "Epoch 29/200\n",
      "1600/1603 [============================>.] - ETA: 0s - loss: 0.1355 - regression_loss: 2.5824e-04 - class_loss: 0.6763Epoch 00028: val_loss did not improve\n",
      "1603/1603 [==============================] - 0s - loss: 0.1356 - regression_loss: 2.5801e-04 - class_loss: 0.6765 - val_loss: 0.1377 - val_regression_loss: 4.1653e-04 - val_class_loss: 0.6864\n",
      "Epoch 30/200\n",
      "1450/1603 [==========================>...] - ETA: 0s - loss: 0.1348 - regression_loss: 3.3993e-04 - class_loss: 0.6725Epoch 00029: val_loss did not improve\n",
      "1603/1603 [==============================] - 0s - loss: 0.1355 - regression_loss: 3.3383e-04 - class_loss: 0.6756 - val_loss: 0.1377 - val_regression_loss: 6.8712e-04 - val_class_loss: 0.6851\n",
      "Epoch 31/200\n",
      "1450/1603 [==========================>...] - ETA: 0s - loss: 0.1349 - regression_loss: 2.6976e-04 - class_loss: 0.6731Epoch 00030: val_loss did not improve\n",
      "1603/1603 [==============================] - 0s - loss: 0.1349 - regression_loss: 2.5601e-04 - class_loss: 0.6734 - val_loss: 0.1373 - val_regression_loss: 2.4369e-05 - val_class_loss: 0.6865\n",
      "Epoch 32/200\n",
      "1450/1603 [==========================>...] - ETA: 0s - loss: 0.1344 - regression_loss: 1.2484e-04 - class_loss: 0.6716Epoch 00031: val_loss did not improve\n",
      "1603/1603 [==============================] - 0s - loss: 0.1349 - regression_loss: 1.2170e-04 - class_loss: 0.6740 - val_loss: 0.1374 - val_regression_loss: 3.2895e-05 - val_class_loss: 0.6868\n",
      "Epoch 33/200\n",
      "1450/1603 [==========================>...] - ETA: 0s - loss: 0.1352 - regression_loss: 1.1361e-04 - class_loss: 0.6756Epoch 00032: val_loss did not improve\n",
      "1603/1603 [==============================] - 0s - loss: 0.1348 - regression_loss: 1.1190e-04 - class_loss: 0.6732 - val_loss: 0.1375 - val_regression_loss: 5.6955e-05 - val_class_loss: 0.6874\n",
      "Epoch 34/200\n",
      "1450/1603 [==========================>...] - ETA: 0s - loss: 0.1341 - regression_loss: 1.0851e-04 - class_loss: 0.6699Epoch 00033: val_loss did not improve\n",
      "1603/1603 [==============================] - 0s - loss: 0.1345 - regression_loss: 1.0882e-04 - class_loss: 0.6718 - val_loss: 0.1373 - val_regression_loss: 6.0912e-05 - val_class_loss: 0.6861\n",
      "Epoch 35/200\n",
      "1450/1603 [==========================>...] - ETA: 0s - loss: 0.1342 - regression_loss: 1.2409e-04 - class_loss: 0.6705Epoch 00034: val_loss did not improve\n",
      "1603/1603 [==============================] - 0s - loss: 0.1347 - regression_loss: 1.1838e-04 - class_loss: 0.6729 - val_loss: 0.1374 - val_regression_loss: 7.5968e-05 - val_class_loss: 0.6869\n",
      "Epoch 36/200\n",
      "1600/1603 [============================>.] - ETA: 0s - loss: 0.1347 - regression_loss: 1.4660e-04 - class_loss: 0.6728Epoch 00035: val_loss did not improve\n",
      "1603/1603 [==============================] - 0s - loss: 0.1348 - regression_loss: 1.4638e-04 - class_loss: 0.6730 - val_loss: 0.1375 - val_regression_loss: 3.5091e-05 - val_class_loss: 0.6872\n",
      "Epoch 37/200\n",
      "1600/1603 [============================>.] - ETA: 0s - loss: 0.1355 - regression_loss: 1.1106e-04 - class_loss: 0.6769Epoch 00036: val_loss did not improve\n",
      "1603/1603 [==============================] - 0s - loss: 0.1354 - regression_loss: 1.1106e-04 - class_loss: 0.6766 - val_loss: 0.1376 - val_regression_loss: 3.8380e-05 - val_class_loss: 0.6878\n",
      "Epoch 38/200\n",
      "1550/1603 [============================>.] - ETA: 0s - loss: 0.1349 - regression_loss: 9.7052e-05 - class_loss: 0.6739Epoch 00037: val_loss did not improve\n",
      "1603/1603 [==============================] - 0s - loss: 0.1348 - regression_loss: 9.7514e-05 - class_loss: 0.6733 - val_loss: 0.1377 - val_regression_loss: 1.8195e-05 - val_class_loss: 0.6883\n",
      "Epoch 39/200\n",
      "1450/1603 [==========================>...] - ETA: 0s - loss: 0.1345 - regression_loss: 1.4759e-04 - class_loss: 0.6715Epoch 00038: val_loss did not improve\n",
      "1603/1603 [==============================] - 0s - loss: 0.1343 - regression_loss: 1.4576e-04 - class_loss: 0.6710 - val_loss: 0.1374 - val_regression_loss: 1.4843e-04 - val_class_loss: 0.6861\n",
      "Epoch 40/200\n",
      "1450/1603 [==========================>...] - ETA: 0s - loss: 0.1343 - regression_loss: 1.2359e-04 - class_loss: 0.6710Epoch 00039: val_loss did not improve\n",
      "1603/1603 [==============================] - 0s - loss: 0.1343 - regression_loss: 1.2165e-04 - class_loss: 0.6709 - val_loss: 0.1373 - val_regression_loss: 2.8923e-05 - val_class_loss: 0.6864\n",
      "Epoch 41/200\n",
      "1450/1603 [==========================>...] - ETA: 0s - loss: 0.1344 - regression_loss: 1.6549e-04 - class_loss: 0.6714Epoch 00040: val_loss did not improve\n",
      "1603/1603 [==============================] - 0s - loss: 0.1348 - regression_loss: 1.6607e-04 - class_loss: 0.6734 - val_loss: 0.1374 - val_regression_loss: 5.1102e-05 - val_class_loss: 0.6866\n",
      "Epoch 42/200\n",
      "1450/1603 [==========================>...] - ETA: 0s - loss: 0.1352 - regression_loss: 2.2056e-04 - class_loss: 0.6747Epoch 00041: val_loss did not improve\n",
      "1603/1603 [==============================] - 0s - loss: 0.1346 - regression_loss: 2.0945e-04 - class_loss: 0.6720 - val_loss: 0.1377 - val_regression_loss: 1.7810e-04 - val_class_loss: 0.6874\n",
      "Epoch 43/200\n",
      "1600/1603 [============================>.] - ETA: 0s - loss: 0.1340 - regression_loss: 1.2851e-04 - class_loss: 0.6696Epoch 00042: val_loss did not improve\n",
      "1603/1603 [==============================] - 0s - loss: 0.1341 - regression_loss: 1.2830e-04 - class_loss: 0.6696 - val_loss: 0.1376 - val_regression_loss: 2.1053e-05 - val_class_loss: 0.6881\n",
      "Epoch 44/200\n",
      "1450/1603 [==========================>...] - ETA: 0s - loss: 0.1353 - regression_loss: 1.0032e-04 - class_loss: 0.6762Epoch 00043: val_loss did not improve\n",
      "1603/1603 [==============================] - 0s - loss: 0.1352 - regression_loss: 1.0638e-04 - class_loss: 0.6757 - val_loss: 0.1377 - val_regression_loss: 2.6647e-04 - val_class_loss: 0.6871\n",
      "Epoch 45/200\n",
      "1550/1603 [============================>.] - ETA: 0s - loss: 0.1349 - regression_loss: 1.8009e-04 - class_loss: 0.6734Epoch 00044: val_loss did not improve\n",
      "1603/1603 [==============================] - 0s - loss: 0.1346 - regression_loss: 1.7998e-04 - class_loss: 0.6719 - val_loss: 0.1376 - val_regression_loss: 1.8252e-05 - val_class_loss: 0.6877\n",
      "Epoch 46/200\n"
     ]
    },
    {
     "name": "stdout",
     "output_type": "stream",
     "text": [
      "1450/1603 [==========================>...] - ETA: 0s - loss: 0.1349 - regression_loss: 1.0398e-04 - class_loss: 0.6738Epoch 00045: val_loss did not improve\n",
      "1603/1603 [==============================] - 0s - loss: 0.1348 - regression_loss: 1.0358e-04 - class_loss: 0.6732 - val_loss: 0.1380 - val_regression_loss: 4.8368e-04 - val_class_loss: 0.6878\n",
      "Epoch 47/200\n",
      "1450/1603 [==========================>...] - ETA: 0s - loss: 0.1353 - regression_loss: 1.5620e-04 - class_loss: 0.6759Epoch 00046: val_loss did not improve\n",
      "1603/1603 [==============================] - 0s - loss: 0.1349 - regression_loss: 1.5094e-04 - class_loss: 0.6739 - val_loss: 0.1375 - val_regression_loss: 8.8362e-05 - val_class_loss: 0.6869\n",
      "Epoch 48/200\n",
      "1450/1603 [==========================>...] - ETA: 0s - loss: 0.1343 - regression_loss: 1.2435e-04 - class_loss: 0.6707Epoch 00047: val_loss did not improve\n",
      "1603/1603 [==============================] - 0s - loss: 0.1346 - regression_loss: 1.2683e-04 - class_loss: 0.6723 - val_loss: 0.1376 - val_regression_loss: 2.4585e-05 - val_class_loss: 0.6880\n",
      "Epoch 49/200\n",
      "1450/1603 [==========================>...] - ETA: 0s - loss: 0.1341 - regression_loss: 1.0361e-04 - class_loss: 0.6701Epoch 00048: val_loss did not improve\n",
      "1603/1603 [==============================] - 0s - loss: 0.1344 - regression_loss: 1.0650e-04 - class_loss: 0.6716 - val_loss: 0.1376 - val_regression_loss: 1.9400e-05 - val_class_loss: 0.6878\n",
      "Epoch 50/200\n",
      "1450/1603 [==========================>...] - ETA: 0s - loss: 0.1349 - regression_loss: 1.0944e-04 - class_loss: 0.6739Epoch 00049: val_loss did not improve\n",
      "1603/1603 [==============================] - 0s - loss: 0.1349 - regression_loss: 1.0897e-04 - class_loss: 0.6738 - val_loss: 0.1377 - val_regression_loss: 3.3069e-05 - val_class_loss: 0.6883\n",
      "Epoch 51/200\n",
      "1450/1603 [==========================>...] - ETA: 0s - loss: 0.1343 - regression_loss: 1.5662e-04 - class_loss: 0.6706Epoch 00050: val_loss did not improve\n",
      "1603/1603 [==============================] - 0s - loss: 0.1345 - regression_loss: 1.5281e-04 - class_loss: 0.6716 - val_loss: 0.1375 - val_regression_loss: 1.0146e-04 - val_class_loss: 0.6872\n",
      "Epoch 52/200\n",
      "1600/1603 [============================>.] - ETA: 0s - loss: 0.1343 - regression_loss: 1.1655e-04 - class_loss: 0.6710Epoch 00051: val_loss did not improve\n",
      "1603/1603 [==============================] - 0s - loss: 0.1343 - regression_loss: 1.1636e-04 - class_loss: 0.6709 - val_loss: 0.1376 - val_regression_loss: 2.3813e-05 - val_class_loss: 0.6879\n",
      "Epoch 53/200\n",
      "1450/1603 [==========================>...] - ETA: 0s - loss: 0.1338 - regression_loss: 1.1567e-04 - class_loss: 0.6683Epoch 00052: val_loss did not improve\n",
      "1603/1603 [==============================] - 0s - loss: 0.1343 - regression_loss: 1.1413e-04 - class_loss: 0.6709 - val_loss: 0.1385 - val_regression_loss: 8.4261e-04 - val_class_loss: 0.6883\n",
      "Epoch 54/200\n",
      "1450/1603 [==========================>...] - ETA: 0s - loss: 0.1342 - regression_loss: 1.5649e-04 - class_loss: 0.6704\n",
      "Epoch 00053: reducing learning rate to 0.0018000000854954123.\n",
      "Epoch 00053: val_loss did not improve\n",
      "1603/1603 [==============================] - 0s - loss: 0.1342 - regression_loss: 1.5883e-04 - class_loss: 0.6702 - val_loss: 0.1377 - val_regression_loss: 7.0605e-05 - val_class_loss: 0.6880\n",
      "Epoch 55/200\n",
      "1450/1603 [==========================>...] - ETA: 0s - loss: 0.1336 - regression_loss: 1.0128e-04 - class_loss: 0.6673Epoch 00054: val_loss did not improve\n",
      "1603/1603 [==============================] - 0s - loss: 0.1342 - regression_loss: 1.0119e-04 - class_loss: 0.6706 - val_loss: 0.1375 - val_regression_loss: 1.9866e-05 - val_class_loss: 0.6876\n",
      "Epoch 56/200\n",
      "1500/1603 [===========================>..] - ETA: 0s - loss: 0.1352 - regression_loss: 9.2659e-05 - class_loss: 0.6757Epoch 00055: val_loss did not improve\n",
      "1603/1603 [==============================] - 0s - loss: 0.1351 - regression_loss: 9.3551e-05 - class_loss: 0.6748 - val_loss: 0.1376 - val_regression_loss: 2.0286e-04 - val_class_loss: 0.6870\n",
      "Epoch 57/200\n",
      "1500/1603 [===========================>..] - ETA: 0s - loss: 0.1343 - regression_loss: 1.0810e-04 - class_loss: 0.6710Epoch 00056: val_loss did not improve\n",
      "1603/1603 [==============================] - 0s - loss: 0.1344 - regression_loss: 1.0622e-04 - class_loss: 0.6715 - val_loss: 0.1374 - val_regression_loss: 4.6940e-05 - val_class_loss: 0.6868\n",
      "Epoch 58/200\n",
      "1550/1603 [============================>.] - ETA: 0s - loss: 0.1344 - regression_loss: 9.3629e-05 - class_loss: 0.6713Epoch 00057: val_loss did not improve\n",
      "1603/1603 [==============================] - 0s - loss: 0.1344 - regression_loss: 9.4183e-05 - class_loss: 0.6717 - val_loss: 0.1373 - val_regression_loss: 1.8579e-05 - val_class_loss: 0.6865\n",
      "Epoch 59/200\n",
      "1550/1603 [============================>.] - ETA: 0s - loss: 0.1343 - regression_loss: 1.0058e-04 - class_loss: 0.6711Epoch 00058: val_loss did not improve\n",
      "1603/1603 [==============================] - 0s - loss: 0.1343 - regression_loss: 9.9265e-05 - class_loss: 0.6711 - val_loss: 0.1372 - val_regression_loss: 3.0675e-05 - val_class_loss: 0.6859\n",
      "Epoch 60/200\n",
      "1550/1603 [============================>.] - ETA: 0s - loss: 0.1344 - regression_loss: 1.0032e-04 - class_loss: 0.6717Epoch 00059: val_loss did not improve\n",
      "1603/1603 [==============================] - 0s - loss: 0.1348 - regression_loss: 1.0276e-04 - class_loss: 0.6733 - val_loss: 0.1375 - val_regression_loss: 4.2392e-05 - val_class_loss: 0.6873\n",
      "Epoch 61/200\n",
      "1500/1603 [===========================>..] - ETA: 0s - loss: 0.1341 - regression_loss: 1.0043e-04 - class_loss: 0.6700Epoch 00060: val_loss did not improve\n",
      "1603/1603 [==============================] - 0s - loss: 0.1343 - regression_loss: 1.0052e-04 - class_loss: 0.6710 - val_loss: 0.1377 - val_regression_loss: 1.8706e-04 - val_class_loss: 0.6875\n",
      "Epoch 62/200\n",
      "1550/1603 [============================>.] - ETA: 0s - loss: 0.1342 - regression_loss: 1.3327e-04 - class_loss: 0.6705Epoch 00061: val_loss did not improve\n",
      "1603/1603 [==============================] - 0s - loss: 0.1340 - regression_loss: 1.3208e-04 - class_loss: 0.6695 - val_loss: 0.1378 - val_regression_loss: 6.3314e-05 - val_class_loss: 0.6886\n",
      "Epoch 63/200\n",
      "1550/1603 [============================>.] - ETA: 0s - loss: 0.1347 - regression_loss: 1.0672e-04 - class_loss: 0.6731Epoch 00062: val_loss did not improve\n",
      "1603/1603 [==============================] - 0s - loss: 0.1347 - regression_loss: 1.0566e-04 - class_loss: 0.6729 - val_loss: 0.1379 - val_regression_loss: 2.3096e-04 - val_class_loss: 0.6883\n",
      "Epoch 64/200\n",
      "1500/1603 [===========================>..] - ETA: 0s - loss: 0.1343 - regression_loss: 9.3810e-05 - class_loss: 0.6708Epoch 00063: val_loss did not improve\n",
      "1603/1603 [==============================] - 0s - loss: 0.1341 - regression_loss: 9.4168e-05 - class_loss: 0.6698 - val_loss: 0.1377 - val_regression_loss: 2.8833e-05 - val_class_loss: 0.6884\n",
      "Epoch 65/200\n",
      "1550/1603 [============================>.] - ETA: 0s - loss: 0.1344 - regression_loss: 9.0788e-05 - class_loss: 0.6715Epoch 00064: val_loss did not improve\n",
      "1603/1603 [==============================] - 0s - loss: 0.1345 - regression_loss: 8.9053e-05 - class_loss: 0.6720 - val_loss: 0.1378 - val_regression_loss: 3.2982e-05 - val_class_loss: 0.6886\n",
      "Epoch 66/200\n",
      "1600/1603 [============================>.] - ETA: 0s - loss: 0.1344 - regression_loss: 1.0414e-04 - class_loss: 0.6714Epoch 00065: val_loss did not improve\n",
      "1603/1603 [==============================] - 0s - loss: 0.1344 - regression_loss: 1.0401e-04 - class_loss: 0.6716 - val_loss: 0.1376 - val_regression_loss: 4.1938e-05 - val_class_loss: 0.6879\n",
      "Epoch 67/200\n",
      "1550/1603 [============================>.] - ETA: 0s - loss: 0.1344 - regression_loss: 1.1123e-04 - class_loss: 0.6716Epoch 00066: val_loss did not improve\n",
      "1603/1603 [==============================] - 0s - loss: 0.1344 - regression_loss: 1.0907e-04 - class_loss: 0.6715 - val_loss: 0.1376 - val_regression_loss: 1.4024e-04 - val_class_loss: 0.6871\n",
      "Epoch 68/200\n",
      "1450/1603 [==========================>...] - ETA: 0s - loss: 0.1344 - regression_loss: 9.6291e-05 - class_loss: 0.6716Epoch 00067: val_loss did not improve\n"
     ]
    },
    {
     "name": "stdout",
     "output_type": "stream",
     "text": [
      "1603/1603 [==============================] - 0s - loss: 0.1342 - regression_loss: 9.4467e-05 - class_loss: 0.6708 - val_loss: 0.1374 - val_regression_loss: 1.9584e-05 - val_class_loss: 0.6871\n",
      "Epoch 69/200\n",
      "1600/1603 [============================>.] - ETA: 0s - loss: 0.1344 - regression_loss: 9.6395e-05 - class_loss: 0.6717Epoch 00068: val_loss did not improve\n",
      "1603/1603 [==============================] - 0s - loss: 0.1344 - regression_loss: 9.6364e-05 - class_loss: 0.6716 - val_loss: 0.1374 - val_regression_loss: 1.5637e-04 - val_class_loss: 0.6862\n",
      "Epoch 70/200\n",
      "1450/1603 [==========================>...] - ETA: 0s - loss: 0.1347 - regression_loss: 9.8851e-05 - class_loss: 0.6731Epoch 00069: val_loss did not improve\n",
      "1603/1603 [==============================] - 0s - loss: 0.1342 - regression_loss: 9.5653e-05 - class_loss: 0.6708 - val_loss: 0.1376 - val_regression_loss: 8.2172e-05 - val_class_loss: 0.6874\n",
      "Epoch 71/200\n",
      "1450/1603 [==========================>...] - ETA: 0s - loss: 0.1345 - regression_loss: 1.1840e-04 - class_loss: 0.6720Epoch 00070: val_loss did not improve\n",
      "1603/1603 [==============================] - 0s - loss: 0.1344 - regression_loss: 1.1521e-04 - class_loss: 0.6715 - val_loss: 0.1378 - val_regression_loss: 1.2531e-04 - val_class_loss: 0.6884\n",
      "Epoch 72/200\n",
      "1450/1603 [==========================>...] - ETA: 0s - loss: 0.1343 - regression_loss: 1.2203e-04 - class_loss: 0.6711Epoch 00071: val_loss did not improve\n",
      "1603/1603 [==============================] - 0s - loss: 0.1341 - regression_loss: 1.1761e-04 - class_loss: 0.6699 - val_loss: 0.1379 - val_regression_loss: 2.0208e-05 - val_class_loss: 0.6894\n",
      "Epoch 73/200\n",
      "1600/1603 [============================>.] - ETA: 0s - loss: 0.1343 - regression_loss: 9.3548e-05 - class_loss: 0.6709Epoch 00072: val_loss did not improve\n",
      "1603/1603 [==============================] - 0s - loss: 0.1342 - regression_loss: 9.3433e-05 - class_loss: 0.6706 - val_loss: 0.1377 - val_regression_loss: 5.0612e-05 - val_class_loss: 0.6883\n",
      "Epoch 74/200\n",
      "1550/1603 [============================>.] - ETA: 0s - loss: 0.1341 - regression_loss: 9.3873e-05 - class_loss: 0.6699Epoch 00073: val_loss did not improve\n",
      "1603/1603 [==============================] - 0s - loss: 0.1341 - regression_loss: 9.3824e-05 - class_loss: 0.6702 - val_loss: 0.1374 - val_regression_loss: 5.4988e-05 - val_class_loss: 0.6865\n",
      "Epoch 75/200\n",
      "1450/1603 [==========================>...] - ETA: 0s - loss: 0.1337 - regression_loss: 1.2328e-04 - class_loss: 0.6677Epoch 00074: val_loss did not improve\n",
      "1603/1603 [==============================] - 0s - loss: 0.1341 - regression_loss: 1.1899e-04 - class_loss: 0.6699 - val_loss: 0.1375 - val_regression_loss: 2.5958e-05 - val_class_loss: 0.6876\n",
      "Epoch 76/200\n",
      "1450/1603 [==========================>...] - ETA: 0s - loss: 0.1340 - regression_loss: 9.7689e-05 - class_loss: 0.6694Epoch 00075: val_loss did not improve\n",
      "1603/1603 [==============================] - 0s - loss: 0.1340 - regression_loss: 1.0014e-04 - class_loss: 0.6693 - val_loss: 0.1379 - val_regression_loss: 2.5581e-05 - val_class_loss: 0.6892\n",
      "Epoch 77/200\n",
      "1600/1603 [============================>.] - ETA: 0s - loss: 0.1339 - regression_loss: 8.9531e-05 - class_loss: 0.6691Epoch 00076: val_loss did not improve\n",
      "1603/1603 [==============================] - 0s - loss: 0.1339 - regression_loss: 8.9423e-05 - class_loss: 0.6691 - val_loss: 0.1377 - val_regression_loss: 6.5632e-05 - val_class_loss: 0.6881\n",
      "Epoch 78/200\n",
      "1600/1603 [============================>.] - ETA: 0s - loss: 0.1338 - regression_loss: 1.0158e-04 - class_loss: 0.6685Epoch 00077: val_loss did not improve\n",
      "1603/1603 [==============================] - 0s - loss: 0.1338 - regression_loss: 1.0139e-04 - class_loss: 0.6683 - val_loss: 0.1371 - val_regression_loss: 2.3413e-05 - val_class_loss: 0.6852\n",
      "Epoch 79/200\n",
      "1500/1603 [===========================>..] - ETA: 0s - loss: 0.1341 - regression_loss: 1.1658e-04 - class_loss: 0.6697Epoch 00078: val_loss improved from 0.13702 to 0.13693, saving model to model.hdf5\n",
      "1603/1603 [==============================] - 0s - loss: 0.1341 - regression_loss: 1.2027e-04 - class_loss: 0.6699 - val_loss: 0.1369 - val_regression_loss: 2.7398e-04 - val_class_loss: 0.6833\n",
      "Epoch 80/200\n",
      "1600/1603 [============================>.] - ETA: 0s - loss: 0.1335 - regression_loss: 1.1336e-04 - class_loss: 0.6672Epoch 00079: val_loss improved from 0.13693 to 0.13642, saving model to model.hdf5\n",
      "1603/1603 [==============================] - 0s - loss: 0.1336 - regression_loss: 1.1319e-04 - class_loss: 0.6674 - val_loss: 0.1364 - val_regression_loss: 5.0426e-05 - val_class_loss: 0.6818\n",
      "Epoch 81/200\n",
      "1550/1603 [============================>.] - ETA: 0s - loss: 0.1331 - regression_loss: 1.0722e-04 - class_loss: 0.6650Epoch 00080: val_loss did not improve\n",
      "1603/1603 [==============================] - 0s - loss: 0.1331 - regression_loss: 1.0677e-04 - class_loss: 0.6649 - val_loss: 0.1364 - val_regression_loss: 1.9418e-05 - val_class_loss: 0.6821\n",
      "Epoch 82/200\n",
      "1450/1603 [==========================>...] - ETA: 0s - loss: 0.1342 - regression_loss: 9.4457e-05 - class_loss: 0.6704Epoch 00081: val_loss improved from 0.13642 to 0.13599, saving model to model.hdf5\n",
      "1603/1603 [==============================] - 0s - loss: 0.1339 - regression_loss: 9.5875e-05 - class_loss: 0.6690 - val_loss: 0.1360 - val_regression_loss: 1.1263e-04 - val_class_loss: 0.6794\n",
      "Epoch 83/200\n",
      "1550/1603 [============================>.] - ETA: 0s - loss: 0.1331 - regression_loss: 1.1534e-04 - class_loss: 0.6647Epoch 00082: val_loss did not improve\n",
      "1603/1603 [==============================] - 0s - loss: 0.1327 - regression_loss: 1.1777e-04 - class_loss: 0.6631 - val_loss: 0.1367 - val_regression_loss: 0.0010 - val_class_loss: 0.6781\n",
      "Epoch 84/200\n",
      "1450/1603 [==========================>...] - ETA: 0s - loss: 0.1339 - regression_loss: 1.8235e-04 - class_loss: 0.6686Epoch 00083: val_loss improved from 0.13599 to 0.13456, saving model to model.hdf5\n",
      "1603/1603 [==============================] - 0s - loss: 0.1330 - regression_loss: 1.7360e-04 - class_loss: 0.6639 - val_loss: 0.1346 - val_regression_loss: 2.4195e-05 - val_class_loss: 0.6727\n",
      "Epoch 85/200\n",
      "1550/1603 [============================>.] - ETA: 0s - loss: 0.1317 - regression_loss: 9.0139e-05 - class_loss: 0.6580Epoch 00084: val_loss improved from 0.13456 to 0.13420, saving model to model.hdf5\n",
      "1603/1603 [==============================] - 0s - loss: 0.1318 - regression_loss: 9.1492e-05 - class_loss: 0.6584 - val_loss: 0.1342 - val_regression_loss: 7.9870e-05 - val_class_loss: 0.6706\n",
      "Epoch 86/200\n",
      "1500/1603 [===========================>..] - ETA: 0s - loss: 0.1318 - regression_loss: 1.1431e-04 - class_loss: 0.6585Epoch 00085: val_loss improved from 0.13420 to 0.13412, saving model to model.hdf5\n",
      "1603/1603 [==============================] - 0s - loss: 0.1320 - regression_loss: 1.1077e-04 - class_loss: 0.6592 - val_loss: 0.1341 - val_regression_loss: 5.7076e-05 - val_class_loss: 0.6703\n",
      "Epoch 87/200\n",
      "1600/1603 [============================>.] - ETA: 0s - loss: 0.1314 - regression_loss: 1.1354e-04 - class_loss: 0.6565Epoch 00086: val_loss improved from 0.13412 to 0.13350, saving model to model.hdf5\n",
      "1603/1603 [==============================] - 0s - loss: 0.1313 - regression_loss: 1.1334e-04 - class_loss: 0.6562 - val_loss: 0.1335 - val_regression_loss: 3.4791e-05 - val_class_loss: 0.6673\n",
      "Epoch 88/200\n",
      "1600/1603 [============================>.] - ETA: 0s - loss: 0.1307 - regression_loss: 9.8027e-05 - class_loss: 0.6530Epoch 00087: val_loss improved from 0.13350 to 0.13163, saving model to model.hdf5\n",
      "1603/1603 [==============================] - 0s - loss: 0.1308 - regression_loss: 9.7964e-05 - class_loss: 0.6534 - val_loss: 0.1316 - val_regression_loss: 7.2552e-05 - val_class_loss: 0.6578\n",
      "Epoch 89/200\n",
      "1600/1603 [============================>.] - ETA: 0s - loss: 0.1304 - regression_loss: 1.0023e-04 - class_loss: 0.6513Epoch 00088: val_loss did not improve\n",
      "1603/1603 [==============================] - 0s - loss: 0.1303 - regression_loss: 1.0020e-04 - class_loss: 0.6510 - val_loss: 0.1319 - val_regression_loss: 2.3428e-05 - val_class_loss: 0.6594\n",
      "Epoch 90/200\n"
     ]
    },
    {
     "name": "stdout",
     "output_type": "stream",
     "text": [
      "1550/1603 [============================>.] - ETA: 0s - loss: 0.1285 - regression_loss: 9.3616e-05 - class_loss: 0.6423Epoch 00089: val_loss improved from 0.13163 to 0.12963, saving model to model.hdf5\n",
      "1603/1603 [==============================] - 0s - loss: 0.1287 - regression_loss: 9.3759e-05 - class_loss: 0.6429 - val_loss: 0.1296 - val_regression_loss: 2.6561e-04 - val_class_loss: 0.6468\n",
      "Epoch 91/200\n",
      "1600/1603 [============================>.] - ETA: 0s - loss: 0.1295 - regression_loss: 1.0943e-04 - class_loss: 0.6470Epoch 00090: val_loss improved from 0.12963 to 0.12957, saving model to model.hdf5\n",
      "1603/1603 [==============================] - 0s - loss: 0.1294 - regression_loss: 1.0927e-04 - class_loss: 0.6466 - val_loss: 0.1296 - val_regression_loss: 2.5215e-05 - val_class_loss: 0.6477\n",
      "Epoch 92/200\n",
      "1450/1603 [==========================>...] - ETA: 0s - loss: 0.1277 - regression_loss: 9.8343e-05 - class_loss: 0.6379Epoch 00091: val_loss improved from 0.12957 to 0.12659, saving model to model.hdf5\n",
      "1603/1603 [==============================] - 0s - loss: 0.1275 - regression_loss: 1.0398e-04 - class_loss: 0.6369 - val_loss: 0.1266 - val_regression_loss: 9.6287e-05 - val_class_loss: 0.6325\n",
      "Epoch 93/200\n",
      "1450/1603 [==========================>...] - ETA: 0s - loss: 0.1239 - regression_loss: 1.2067e-04 - class_loss: 0.6191Epoch 00092: val_loss improved from 0.12659 to 0.12330, saving model to model.hdf5\n",
      "1603/1603 [==============================] - 0s - loss: 0.1250 - regression_loss: 1.2118e-04 - class_loss: 0.6245 - val_loss: 0.1233 - val_regression_loss: 4.4864e-05 - val_class_loss: 0.6163\n",
      "Epoch 94/200\n",
      "1450/1603 [==========================>...] - ETA: 0s - loss: 0.1245 - regression_loss: 1.2078e-04 - class_loss: 0.6219Epoch 00093: val_loss did not improve\n",
      "1603/1603 [==============================] - 0s - loss: 0.1238 - regression_loss: 1.1917e-04 - class_loss: 0.6186 - val_loss: 0.1270 - val_regression_loss: 4.1869e-05 - val_class_loss: 0.6347\n",
      "Epoch 95/200\n",
      "1600/1603 [============================>.] - ETA: 0s - loss: 0.1242 - regression_loss: 1.2273e-04 - class_loss: 0.6205Epoch 00094: val_loss improved from 0.12330 to 0.12177, saving model to model.hdf5\n",
      "1603/1603 [==============================] - 0s - loss: 0.1243 - regression_loss: 1.2252e-04 - class_loss: 0.6207 - val_loss: 0.1218 - val_regression_loss: 2.7577e-05 - val_class_loss: 0.6087\n",
      "Epoch 96/200\n",
      "1450/1603 [==========================>...] - ETA: 0s - loss: 0.1238 - regression_loss: 1.1326e-04 - class_loss: 0.6184Epoch 00095: val_loss improved from 0.12177 to 0.12012, saving model to model.hdf5\n",
      "1603/1603 [==============================] - 0s - loss: 0.1236 - regression_loss: 1.1235e-04 - class_loss: 0.6177 - val_loss: 0.1201 - val_regression_loss: 2.9182e-05 - val_class_loss: 0.6004\n",
      "Epoch 97/200\n",
      "1550/1603 [============================>.] - ETA: 0s - loss: 0.1206 - regression_loss: 9.9604e-05 - class_loss: 0.6025Epoch 00096: val_loss did not improve\n",
      "1603/1603 [==============================] - 0s - loss: 0.1206 - regression_loss: 9.8587e-05 - class_loss: 0.6023 - val_loss: 0.1215 - val_regression_loss: 1.2522e-04 - val_class_loss: 0.6067\n",
      "Epoch 98/200\n",
      "1600/1603 [============================>.] - ETA: 0s - loss: 0.1222 - regression_loss: 9.8131e-05 - class_loss: 0.6103Epoch 00097: val_loss improved from 0.12012 to 0.11755, saving model to model.hdf5\n",
      "1603/1603 [==============================] - 0s - loss: 0.1221 - regression_loss: 9.8003e-05 - class_loss: 0.6102 - val_loss: 0.1176 - val_regression_loss: 8.5262e-05 - val_class_loss: 0.5873\n",
      "Epoch 99/200\n",
      "1550/1603 [============================>.] - ETA: 0s - loss: 0.1229 - regression_loss: 1.3271e-04 - class_loss: 0.6137Epoch 00098: val_loss did not improve\n",
      "1603/1603 [==============================] - 0s - loss: 0.1225 - regression_loss: 1.3144e-04 - class_loss: 0.6117 - val_loss: 0.1223 - val_regression_loss: 2.4578e-05 - val_class_loss: 0.6112\n",
      "Epoch 100/200\n",
      "1600/1603 [============================>.] - ETA: 0s - loss: 0.1223 - regression_loss: 1.1002e-04 - class_loss: 0.6108Epoch 00099: val_loss improved from 0.11755 to 0.11579, saving model to model.hdf5\n",
      "1603/1603 [==============================] - 0s - loss: 0.1222 - regression_loss: 1.0984e-04 - class_loss: 0.6105 - val_loss: 0.1158 - val_regression_loss: 2.4146e-05 - val_class_loss: 0.5788\n",
      "Epoch 101/200\n",
      "1550/1603 [============================>.] - ETA: 0s - loss: 0.1197 - regression_loss: 9.8299e-05 - class_loss: 0.5980Epoch 00100: val_loss did not improve\n",
      "1603/1603 [==============================] - 0s - loss: 0.1198 - regression_loss: 9.8059e-05 - class_loss: 0.5987 - val_loss: 0.1162 - val_regression_loss: 9.7481e-05 - val_class_loss: 0.5803\n",
      "Epoch 102/200\n",
      "1500/1603 [===========================>..] - ETA: 0s - loss: 0.1217 - regression_loss: 1.0969e-04 - class_loss: 0.6077Epoch 00101: val_loss did not improve\n",
      "1603/1603 [==============================] - 0s - loss: 0.1218 - regression_loss: 1.1015e-04 - class_loss: 0.6083 - val_loss: 0.1190 - val_regression_loss: 4.3398e-04 - val_class_loss: 0.5928\n",
      "Epoch 103/200\n",
      "1550/1603 [============================>.] - ETA: 0s - loss: 0.1188 - regression_loss: 1.4862e-04 - class_loss: 0.5934Epoch 00102: val_loss did not improve\n",
      "1603/1603 [==============================] - 0s - loss: 0.1196 - regression_loss: 1.4641e-04 - class_loss: 0.5972 - val_loss: 0.1164 - val_regression_loss: 7.1225e-05 - val_class_loss: 0.5816\n",
      "Epoch 104/200\n",
      "1500/1603 [===========================>..] - ETA: 0s - loss: 0.1173 - regression_loss: 8.8836e-05 - class_loss: 0.5862Epoch 00103: val_loss improved from 0.11579 to 0.11540, saving model to model.hdf5\n",
      "1603/1603 [==============================] - 0s - loss: 0.1176 - regression_loss: 8.8974e-05 - class_loss: 0.5875 - val_loss: 0.1154 - val_regression_loss: 4.0599e-05 - val_class_loss: 0.5768\n",
      "Epoch 105/200\n",
      "1500/1603 [===========================>..] - ETA: 0s - loss: 0.1180 - regression_loss: 9.6612e-05 - class_loss: 0.5897Epoch 00104: val_loss did not improve\n",
      "1603/1603 [==============================] - 0s - loss: 0.1177 - regression_loss: 9.5896e-05 - class_loss: 0.5880 - val_loss: 0.1163 - val_regression_loss: 3.1033e-05 - val_class_loss: 0.5815\n",
      "Epoch 106/200\n",
      "1500/1603 [===========================>..] - ETA: 0s - loss: 0.1187 - regression_loss: 9.7120e-05 - class_loss: 0.5929Epoch 00105: val_loss did not improve\n",
      "1603/1603 [==============================] - 0s - loss: 0.1181 - regression_loss: 9.8215e-05 - class_loss: 0.5901 - val_loss: 0.1159 - val_regression_loss: 3.6192e-04 - val_class_loss: 0.5778\n",
      "Epoch 107/200\n",
      "1600/1603 [============================>.] - ETA: 0s - loss: 0.1184 - regression_loss: 1.2145e-04 - class_loss: 0.5915Epoch 00106: val_loss improved from 0.11540 to 0.11394, saving model to model.hdf5\n",
      "1603/1603 [==============================] - 0s - loss: 0.1184 - regression_loss: 1.2136e-04 - class_loss: 0.5914 - val_loss: 0.1139 - val_regression_loss: 1.4777e-04 - val_class_loss: 0.5689\n",
      "Epoch 108/200\n",
      "1550/1603 [============================>.] - ETA: 0s - loss: 0.1191 - regression_loss: 9.2546e-05 - class_loss: 0.5949Epoch 00107: val_loss improved from 0.11394 to 0.11195, saving model to model.hdf5\n",
      "1603/1603 [==============================] - 0s - loss: 0.1191 - regression_loss: 9.1043e-05 - class_loss: 0.5952 - val_loss: 0.1119 - val_regression_loss: 1.6233e-05 - val_class_loss: 0.5597\n",
      "Epoch 109/200\n",
      "1550/1603 [============================>.] - ETA: 0s - loss: 0.1192 - regression_loss: 8.3303e-05 - class_loss: 0.5955Epoch 00108: val_loss did not improve\n",
      "1603/1603 [==============================] - 0s - loss: 0.1199 - regression_loss: 8.2773e-05 - class_loss: 0.5989 - val_loss: 0.1130 - val_regression_loss: 1.8910e-05 - val_class_loss: 0.5647\n",
      "Epoch 110/200\n",
      "1550/1603 [============================>.] - ETA: 0s - loss: 0.1184 - regression_loss: 7.7418e-05 - class_loss: 0.5918Epoch 00109: val_loss did not improve\n",
      "1603/1603 [==============================] - 0s - loss: 0.1189 - regression_loss: 7.8830e-05 - class_loss: 0.5940 - val_loss: 0.1131 - val_regression_loss: 8.2888e-05 - val_class_loss: 0.5649\n",
      "Epoch 111/200\n"
     ]
    },
    {
     "name": "stdout",
     "output_type": "stream",
     "text": [
      "1600/1603 [============================>.] - ETA: 0s - loss: 0.1191 - regression_loss: 8.0477e-05 - class_loss: 0.5951Epoch 00110: val_loss did not improve\n",
      "1603/1603 [==============================] - 0s - loss: 0.1191 - regression_loss: 8.0350e-05 - class_loss: 0.5951 - val_loss: 0.1129 - val_regression_loss: 1.9911e-05 - val_class_loss: 0.5642\n",
      "Epoch 112/200\n",
      "1450/1603 [==========================>...] - ETA: 0s - loss: 0.1166 - regression_loss: 8.0431e-05 - class_loss: 0.5828Epoch 00111: val_loss did not improve\n",
      "1603/1603 [==============================] - 0s - loss: 0.1168 - regression_loss: 7.7994e-05 - class_loss: 0.5835 - val_loss: 0.1121 - val_regression_loss: 2.1715e-05 - val_class_loss: 0.5606\n",
      "Epoch 113/200\n",
      "1450/1603 [==========================>...] - ETA: 0s - loss: 0.1179 - regression_loss: 8.0550e-05 - class_loss: 0.5889Epoch 00112: val_loss did not improve\n",
      "1603/1603 [==============================] - 0s - loss: 0.1169 - regression_loss: 7.9810e-05 - class_loss: 0.5841 - val_loss: 0.1142 - val_regression_loss: 2.2806e-05 - val_class_loss: 0.5709\n",
      "Epoch 114/200\n",
      "1450/1603 [==========================>...] - ETA: 0s - loss: 0.1158 - regression_loss: 7.6983e-05 - class_loss: 0.5788Epoch 00113: val_loss improved from 0.11195 to 0.11092, saving model to model.hdf5\n",
      "1603/1603 [==============================] - 0s - loss: 0.1150 - regression_loss: 7.6986e-05 - class_loss: 0.5744 - val_loss: 0.1109 - val_regression_loss: 1.5256e-04 - val_class_loss: 0.5539\n",
      "Epoch 115/200\n",
      "1600/1603 [============================>.] - ETA: 0s - loss: 0.1176 - regression_loss: 8.8522e-05 - class_loss: 0.5875Epoch 00114: val_loss improved from 0.11092 to 0.10979, saving model to model.hdf5\n",
      "1603/1603 [==============================] - 0s - loss: 0.1175 - regression_loss: 8.8433e-05 - class_loss: 0.5870 - val_loss: 0.1098 - val_regression_loss: 2.5022e-05 - val_class_loss: 0.5488\n",
      "Epoch 116/200\n",
      "1450/1603 [==========================>...] - ETA: 0s - loss: 0.1190 - regression_loss: 7.9302e-05 - class_loss: 0.5948Epoch 00115: val_loss did not improve\n",
      "1603/1603 [==============================] - 0s - loss: 0.1185 - regression_loss: 8.0692e-05 - class_loss: 0.5921 - val_loss: 0.1115 - val_regression_loss: 1.9029e-05 - val_class_loss: 0.5576\n",
      "Epoch 117/200\n",
      "1550/1603 [============================>.] - ETA: 0s - loss: 0.1129 - regression_loss: 6.9933e-05 - class_loss: 0.5644Epoch 00116: val_loss did not improve\n",
      "1603/1603 [==============================] - 0s - loss: 0.1133 - regression_loss: 7.1020e-05 - class_loss: 0.5663 - val_loss: 0.1113 - val_regression_loss: 1.6955e-05 - val_class_loss: 0.5563\n",
      "Epoch 118/200\n",
      "1450/1603 [==========================>...] - ETA: 0s - loss: 0.1142 - regression_loss: 8.2995e-05 - class_loss: 0.5707Epoch 00117: val_loss improved from 0.10979 to 0.10969, saving model to model.hdf5\n",
      "1603/1603 [==============================] - 0s - loss: 0.1156 - regression_loss: 8.2045e-05 - class_loss: 0.5774 - val_loss: 0.1097 - val_regression_loss: 8.7404e-05 - val_class_loss: 0.5480\n",
      "Epoch 119/200\n",
      "1550/1603 [============================>.] - ETA: 0s - loss: 0.1177 - regression_loss: 8.3817e-05 - class_loss: 0.5882Epoch 00118: val_loss did not improve\n",
      "1603/1603 [==============================] - 0s - loss: 0.1179 - regression_loss: 8.2258e-05 - class_loss: 0.5891 - val_loss: 0.1112 - val_regression_loss: 3.0843e-05 - val_class_loss: 0.5557\n",
      "Epoch 120/200\n",
      "1550/1603 [============================>.] - ETA: 0s - loss: 0.1149 - regression_loss: 7.9376e-05 - class_loss: 0.5743Epoch 00119: val_loss did not improve\n",
      "1603/1603 [==============================] - 0s - loss: 0.1155 - regression_loss: 7.8907e-05 - class_loss: 0.5773 - val_loss: 0.1109 - val_regression_loss: 1.8581e-05 - val_class_loss: 0.5545\n",
      "Epoch 121/200\n",
      "1450/1603 [==========================>...] - ETA: 0s - loss: 0.1140 - regression_loss: 6.8998e-05 - class_loss: 0.5698Epoch 00120: val_loss did not improve\n",
      "1603/1603 [==============================] - 0s - loss: 0.1141 - regression_loss: 7.0310e-05 - class_loss: 0.5699 - val_loss: 0.1105 - val_regression_loss: 4.5378e-05 - val_class_loss: 0.5521\n",
      "Epoch 122/200\n",
      "1550/1603 [============================>.] - ETA: 0s - loss: 0.1169 - regression_loss: 1.0229e-04 - class_loss: 0.5840Epoch 00121: val_loss did not improve\n",
      "1603/1603 [==============================] - 0s - loss: 0.1172 - regression_loss: 1.0062e-04 - class_loss: 0.5857 - val_loss: 0.1105 - val_regression_loss: 1.4779e-05 - val_class_loss: 0.5522\n",
      "Epoch 123/200\n",
      "1550/1603 [============================>.] - ETA: 0s - loss: 0.1172 - regression_loss: 7.0136e-05 - class_loss: 0.5856Epoch 00122: val_loss did not improve\n",
      "1603/1603 [==============================] - 0s - loss: 0.1168 - regression_loss: 6.9248e-05 - class_loss: 0.5837 - val_loss: 0.1110 - val_regression_loss: 5.9146e-05 - val_class_loss: 0.5547\n",
      "Epoch 124/200\n",
      "1600/1603 [============================>.] - ETA: 0s - loss: 0.1175 - regression_loss: 7.0814e-05 - class_loss: 0.5869Epoch 00123: val_loss did not improve\n",
      "1603/1603 [==============================] - 0s - loss: 0.1174 - regression_loss: 7.0736e-05 - class_loss: 0.5867 - val_loss: 0.1108 - val_regression_loss: 3.5351e-05 - val_class_loss: 0.5538\n",
      "Epoch 125/200\n",
      "1450/1603 [==========================>...] - ETA: 0s - loss: 0.1165 - regression_loss: 6.6178e-05 - class_loss: 0.5824Epoch 00124: val_loss did not improve\n",
      "1603/1603 [==============================] - 0s - loss: 0.1165 - regression_loss: 6.5055e-05 - class_loss: 0.5824 - val_loss: 0.1107 - val_regression_loss: 6.4613e-05 - val_class_loss: 0.5534\n",
      "Epoch 126/200\n",
      "1550/1603 [============================>.] - ETA: 0s - loss: 0.1143 - regression_loss: 7.8610e-05 - class_loss: 0.5710Epoch 00125: val_loss did not improve\n",
      "1603/1603 [==============================] - 0s - loss: 0.1147 - regression_loss: 7.7716e-05 - class_loss: 0.5731 - val_loss: 0.1110 - val_regression_loss: 2.2327e-05 - val_class_loss: 0.5548\n",
      "Epoch 127/200\n",
      "1550/1603 [============================>.] - ETA: 0s - loss: 0.1157 - regression_loss: 6.8443e-05 - class_loss: 0.5784Epoch 00126: val_loss did not improve\n",
      "1603/1603 [==============================] - 0s - loss: 0.1152 - regression_loss: 6.7922e-05 - class_loss: 0.5755 - val_loss: 0.1111 - val_regression_loss: 1.0099e-04 - val_class_loss: 0.5548\n",
      "Epoch 128/200\n",
      "1550/1603 [============================>.] - ETA: 0s - loss: 0.1131 - regression_loss: 8.9412e-05 - class_loss: 0.5649Epoch 00127: val_loss improved from 0.10969 to 0.10968, saving model to model.hdf5\n",
      "1603/1603 [==============================] - 0s - loss: 0.1143 - regression_loss: 8.7284e-05 - class_loss: 0.5708 - val_loss: 0.1097 - val_regression_loss: 3.0772e-05 - val_class_loss: 0.5483\n",
      "Epoch 129/200\n",
      "1550/1603 [============================>.] - ETA: 0s - loss: 0.1153 - regression_loss: 1.0432e-04 - class_loss: 0.5760Epoch 00128: val_loss did not improve\n",
      "1603/1603 [==============================] - 0s - loss: 0.1149 - regression_loss: 1.0222e-04 - class_loss: 0.5738 - val_loss: 0.1102 - val_regression_loss: 3.4916e-05 - val_class_loss: 0.5509\n",
      "Epoch 130/200\n",
      "1600/1603 [============================>.] - ETA: 0s - loss: 0.1154 - regression_loss: 1.6470e-04 - class_loss: 0.5760Epoch 00129: val_loss did not improve\n",
      "1603/1603 [==============================] - 0s - loss: 0.1153 - regression_loss: 1.6495e-04 - class_loss: 0.5757 - val_loss: 0.1100 - val_regression_loss: 2.9495e-05 - val_class_loss: 0.5499\n",
      "Epoch 131/200\n",
      "1550/1603 [============================>.] - ETA: 0s - loss: 0.1136 - regression_loss: 6.8513e-05 - class_loss: 0.5675Epoch 00130: val_loss improved from 0.10968 to 0.10922, saving model to model.hdf5\n",
      "1603/1603 [==============================] - 0s - loss: 0.1133 - regression_loss: 6.9008e-05 - class_loss: 0.5660 - val_loss: 0.1092 - val_regression_loss: 1.5092e-05 - val_class_loss: 0.5460\n",
      "Epoch 132/200\n",
      "1500/1603 [===========================>..] - ETA: 0s - loss: 0.1141 - regression_loss: 6.4870e-05 - class_loss: 0.5703Epoch 00131: val_loss did not improve\n",
      "1603/1603 [==============================] - 0s - loss: 0.1138 - regression_loss: 6.5709e-05 - class_loss: 0.5689 - val_loss: 0.1093 - val_regression_loss: 1.3013e-05 - val_class_loss: 0.5466\n",
      "Epoch 133/200\n"
     ]
    },
    {
     "name": "stdout",
     "output_type": "stream",
     "text": [
      "1600/1603 [============================>.] - ETA: 0s - loss: 0.1159 - regression_loss: 6.7162e-05 - class_loss: 0.5792Epoch 00132: val_loss did not improve\n",
      "1603/1603 [==============================] - 0s - loss: 0.1158 - regression_loss: 6.7304e-05 - class_loss: 0.5787 - val_loss: 0.1105 - val_regression_loss: 1.2667e-04 - val_class_loss: 0.5519\n",
      "Epoch 134/200\n",
      "1450/1603 [==========================>...] - ETA: 0s - loss: 0.1158 - regression_loss: 1.1751e-04 - class_loss: 0.5785Epoch 00133: val_loss did not improve\n",
      "1603/1603 [==============================] - 0s - loss: 0.1163 - regression_loss: 1.1103e-04 - class_loss: 0.5810 - val_loss: 0.1096 - val_regression_loss: 2.4036e-05 - val_class_loss: 0.5479\n",
      "Epoch 135/200\n",
      "1450/1603 [==========================>...] - ETA: 0s - loss: 0.1136 - regression_loss: 7.2928e-05 - class_loss: 0.5676Epoch 00134: val_loss improved from 0.10922 to 0.10895, saving model to model.hdf5\n",
      "1603/1603 [==============================] - 0s - loss: 0.1122 - regression_loss: 7.0261e-05 - class_loss: 0.5609 - val_loss: 0.1090 - val_regression_loss: 2.5321e-05 - val_class_loss: 0.5446\n",
      "Epoch 136/200\n",
      "1600/1603 [============================>.] - ETA: 0s - loss: 0.1129 - regression_loss: 7.5683e-05 - class_loss: 0.5642Epoch 00135: val_loss improved from 0.10895 to 0.10857, saving model to model.hdf5\n",
      "1603/1603 [==============================] - 0s - loss: 0.1130 - regression_loss: 7.5621e-05 - class_loss: 0.5645 - val_loss: 0.1086 - val_regression_loss: 4.2884e-05 - val_class_loss: 0.5426\n",
      "Epoch 137/200\n",
      "1450/1603 [==========================>...] - ETA: 0s - loss: 0.1120 - regression_loss: 7.0425e-05 - class_loss: 0.5597Epoch 00136: val_loss improved from 0.10857 to 0.10803, saving model to model.hdf5\n",
      "1603/1603 [==============================] - 0s - loss: 0.1123 - regression_loss: 7.1361e-05 - class_loss: 0.5611 - val_loss: 0.1080 - val_regression_loss: 2.1198e-05 - val_class_loss: 0.5400\n",
      "Epoch 138/200\n",
      "1600/1603 [============================>.] - ETA: 0s - loss: 0.1143 - regression_loss: 5.9613e-05 - class_loss: 0.5713Epoch 00137: val_loss did not improve\n",
      "1603/1603 [==============================] - 0s - loss: 0.1144 - regression_loss: 5.9523e-05 - class_loss: 0.5718 - val_loss: 0.1087 - val_regression_loss: 1.9888e-05 - val_class_loss: 0.5434\n",
      "Epoch 139/200\n",
      "1450/1603 [==========================>...] - ETA: 0s - loss: 0.1153 - regression_loss: 6.9796e-05 - class_loss: 0.5761Epoch 00138: val_loss did not improve\n",
      "1603/1603 [==============================] - 0s - loss: 0.1164 - regression_loss: 7.1368e-05 - class_loss: 0.5816 - val_loss: 0.1107 - val_regression_loss: 4.5009e-05 - val_class_loss: 0.5531\n",
      "Epoch 140/200\n",
      "1600/1603 [============================>.] - ETA: 0s - loss: 0.1129 - regression_loss: 6.5083e-05 - class_loss: 0.5641Epoch 00139: val_loss did not improve\n",
      "1603/1603 [==============================] - 0s - loss: 0.1129 - regression_loss: 6.5116e-05 - class_loss: 0.5640 - val_loss: 0.1100 - val_regression_loss: 2.7646e-05 - val_class_loss: 0.5499\n",
      "Epoch 141/200\n",
      "1600/1603 [============================>.] - ETA: 0s - loss: 0.1138 - regression_loss: 7.4372e-05 - class_loss: 0.5686Epoch 00140: val_loss did not improve\n",
      "1603/1603 [==============================] - 0s - loss: 0.1139 - regression_loss: 7.4282e-05 - class_loss: 0.5692 - val_loss: 0.1106 - val_regression_loss: 1.4581e-05 - val_class_loss: 0.5531\n",
      "Epoch 142/200\n",
      "1550/1603 [============================>.] - ETA: 0s - loss: 0.1136 - regression_loss: 9.4338e-05 - class_loss: 0.5673Epoch 00141: val_loss did not improve\n",
      "1603/1603 [==============================] - 0s - loss: 0.1131 - regression_loss: 9.3589e-05 - class_loss: 0.5652 - val_loss: 0.1101 - val_regression_loss: 1.5928e-05 - val_class_loss: 0.5505\n",
      "Epoch 143/200\n",
      "1550/1603 [============================>.] - ETA: 0s - loss: 0.1133 - regression_loss: 6.1552e-05 - class_loss: 0.5664Epoch 00142: val_loss did not improve\n",
      "1603/1603 [==============================] - 0s - loss: 0.1132 - regression_loss: 6.1038e-05 - class_loss: 0.5657 - val_loss: 0.1086 - val_regression_loss: 4.5803e-05 - val_class_loss: 0.5428\n",
      "Epoch 144/200\n",
      "1550/1603 [============================>.] - ETA: 0s - loss: 0.1138 - regression_loss: 6.2989e-05 - class_loss: 0.5689Epoch 00143: val_loss did not improve\n",
      "1603/1603 [==============================] - 0s - loss: 0.1139 - regression_loss: 6.2296e-05 - class_loss: 0.5691 - val_loss: 0.1081 - val_regression_loss: 3.7629e-05 - val_class_loss: 0.5405\n",
      "Epoch 145/200\n",
      "1500/1603 [===========================>..] - ETA: 0s - loss: 0.1144 - regression_loss: 6.9134e-05 - class_loss: 0.5717Epoch 00144: val_loss did not improve\n",
      "1603/1603 [==============================] - 0s - loss: 0.1146 - regression_loss: 7.0885e-05 - class_loss: 0.5727 - val_loss: 0.1085 - val_regression_loss: 4.2785e-05 - val_class_loss: 0.5421\n",
      "Epoch 146/200\n",
      "1450/1603 [==========================>...] - ETA: 0s - loss: 0.1132 - regression_loss: 1.2215e-04 - class_loss: 0.5656Epoch 00145: val_loss did not improve\n",
      "1603/1603 [==============================] - 0s - loss: 0.1139 - regression_loss: 1.1463e-04 - class_loss: 0.5691 - val_loss: 0.1083 - val_regression_loss: 1.9974e-05 - val_class_loss: 0.5413\n",
      "Epoch 147/200\n",
      "1500/1603 [===========================>..] - ETA: 0s - loss: 0.1147 - regression_loss: 6.8571e-05 - class_loss: 0.5732Epoch 00146: val_loss did not improve\n",
      "1603/1603 [==============================] - 0s - loss: 0.1131 - regression_loss: 6.6328e-05 - class_loss: 0.5653 - val_loss: 0.1090 - val_regression_loss: 9.6241e-06 - val_class_loss: 0.5448\n",
      "Epoch 148/200\n",
      "1500/1603 [===========================>..] - ETA: 0s - loss: 0.1126 - regression_loss: 6.3463e-05 - class_loss: 0.5625Epoch 00147: val_loss improved from 0.10803 to 0.10763, saving model to model.hdf5\n",
      "1603/1603 [==============================] - 0s - loss: 0.1115 - regression_loss: 6.2943e-05 - class_loss: 0.5574 - val_loss: 0.1076 - val_regression_loss: 1.8847e-05 - val_class_loss: 0.5380\n",
      "Epoch 149/200\n",
      "1600/1603 [============================>.] - ETA: 0s - loss: 0.1135 - regression_loss: 1.0606e-04 - class_loss: 0.5668Epoch 00148: val_loss did not improve\n",
      "1603/1603 [==============================] - 0s - loss: 0.1135 - regression_loss: 1.0605e-04 - class_loss: 0.5667 - val_loss: 0.1082 - val_regression_loss: 2.7354e-05 - val_class_loss: 0.5408\n",
      "Epoch 150/200\n",
      "1550/1603 [============================>.] - ETA: 0s - loss: 0.1140 - regression_loss: 6.1009e-05 - class_loss: 0.5696Epoch 00149: val_loss did not improve\n",
      "1603/1603 [==============================] - 0s - loss: 0.1144 - regression_loss: 6.2715e-05 - class_loss: 0.5716 - val_loss: 0.1081 - val_regression_loss: 1.4968e-05 - val_class_loss: 0.5404\n",
      "Epoch 151/200\n",
      "1550/1603 [============================>.] - ETA: 0s - loss: 0.1140 - regression_loss: 6.5942e-05 - class_loss: 0.5697Epoch 00150: val_loss did not improve\n",
      "1603/1603 [==============================] - 0s - loss: 0.1141 - regression_loss: 6.5718e-05 - class_loss: 0.5703 - val_loss: 0.1079 - val_regression_loss: 3.9930e-05 - val_class_loss: 0.5395\n",
      "Epoch 152/200\n",
      "1500/1603 [===========================>..] - ETA: 0s - loss: 0.1141 - regression_loss: 5.5187e-05 - class_loss: 0.5700Epoch 00151: val_loss did not improve\n",
      "1603/1603 [==============================] - 0s - loss: 0.1136 - regression_loss: 5.6090e-05 - class_loss: 0.5678 - val_loss: 0.1106 - val_regression_loss: 0.0018 - val_class_loss: 0.5441\n",
      "Epoch 153/200\n",
      "1550/1603 [============================>.] - ETA: 0s - loss: 0.1159 - regression_loss: 2.0507e-04 - class_loss: 0.5786Epoch 00152: val_loss did not improve\n",
      "1603/1603 [==============================] - 0s - loss: 0.1155 - regression_loss: 2.0004e-04 - class_loss: 0.5763 - val_loss: 0.1095 - val_regression_loss: 1.1800e-05 - val_class_loss: 0.5474\n",
      "Epoch 154/200\n",
      "1600/1603 [============================>.] - ETA: 0s - loss: 0.1133 - regression_loss: 5.6420e-05 - class_loss: 0.5664Epoch 00153: val_loss did not improve\n",
      "1603/1603 [==============================] - 0s - loss: 0.1134 - regression_loss: 5.6331e-05 - class_loss: 0.5668 - val_loss: 0.1088 - val_regression_loss: 1.2203e-05 - val_class_loss: 0.5441\n",
      "Epoch 155/200\n"
     ]
    },
    {
     "name": "stdout",
     "output_type": "stream",
     "text": [
      "1450/1603 [==========================>...] - ETA: 0s - loss: 0.1134 - regression_loss: 6.3454e-05 - class_loss: 0.5665Epoch 00154: val_loss did not improve\n",
      "1603/1603 [==============================] - 0s - loss: 0.1133 - regression_loss: 6.6613e-05 - class_loss: 0.5660 - val_loss: 0.1092 - val_regression_loss: 1.8575e-04 - val_class_loss: 0.5448\n",
      "Epoch 156/200\n",
      "1450/1603 [==========================>...] - ETA: 0s - loss: 0.1135 - regression_loss: 6.4424e-05 - class_loss: 0.5670Epoch 00155: val_loss improved from 0.10763 to 0.10754, saving model to model.hdf5\n",
      "1603/1603 [==============================] - 0s - loss: 0.1130 - regression_loss: 6.4544e-05 - class_loss: 0.5648 - val_loss: 0.1075 - val_regression_loss: 1.2722e-05 - val_class_loss: 0.5376\n",
      "Epoch 157/200\n",
      "1550/1603 [============================>.] - ETA: 0s - loss: 0.1150 - regression_loss: 5.4915e-05 - class_loss: 0.5749Epoch 00156: val_loss did not improve\n",
      "1603/1603 [==============================] - 0s - loss: 0.1159 - regression_loss: 5.5974e-05 - class_loss: 0.5793 - val_loss: 0.1083 - val_regression_loss: 4.8694e-05 - val_class_loss: 0.5412\n",
      "Epoch 158/200\n",
      "1450/1603 [==========================>...] - ETA: 0s - loss: 0.1129 - regression_loss: 5.7036e-05 - class_loss: 0.5642Epoch 00157: val_loss did not improve\n",
      "1603/1603 [==============================] - 0s - loss: 0.1126 - regression_loss: 5.6306e-05 - class_loss: 0.5627 - val_loss: 0.1085 - val_regression_loss: 1.2073e-05 - val_class_loss: 0.5427\n",
      "Epoch 159/200\n",
      "1600/1603 [============================>.] - ETA: 0s - loss: 0.1119 - regression_loss: 5.2759e-05 - class_loss: 0.5593Epoch 00158: val_loss did not improve\n",
      "1603/1603 [==============================] - 0s - loss: 0.1121 - regression_loss: 5.2695e-05 - class_loss: 0.5602 - val_loss: 0.1082 - val_regression_loss: 1.7646e-05 - val_class_loss: 0.5408\n",
      "Epoch 160/200\n",
      "1450/1603 [==========================>...] - ETA: 0s - loss: 0.1137 - regression_loss: 6.7812e-05 - class_loss: 0.5683Epoch 00159: val_loss did not improve\n",
      "1603/1603 [==============================] - 0s - loss: 0.1138 - regression_loss: 7.0652e-05 - class_loss: 0.5689 - val_loss: 0.1090 - val_regression_loss: 2.1693e-05 - val_class_loss: 0.5448\n",
      "Epoch 161/200\n",
      "1450/1603 [==========================>...] - ETA: 0s - loss: 0.1146 - regression_loss: 5.2417e-05 - class_loss: 0.5727Epoch 00160: val_loss did not improve\n",
      "1603/1603 [==============================] - 0s - loss: 0.1130 - regression_loss: 5.1231e-05 - class_loss: 0.5646 - val_loss: 0.1084 - val_regression_loss: 1.2985e-05 - val_class_loss: 0.5421\n",
      "Epoch 162/200\n",
      "1550/1603 [============================>.] - ETA: 0s - loss: 0.1128 - regression_loss: 5.5367e-05 - class_loss: 0.5636Epoch 00161: val_loss did not improve\n",
      "1603/1603 [==============================] - 0s - loss: 0.1124 - regression_loss: 5.5510e-05 - class_loss: 0.5616 - val_loss: 0.1076 - val_regression_loss: 2.2645e-05 - val_class_loss: 0.5381\n",
      "Epoch 163/200\n",
      "1500/1603 [===========================>..] - ETA: 0s - loss: 0.1123 - regression_loss: 5.6787e-05 - class_loss: 0.5611Epoch 00162: val_loss improved from 0.10754 to 0.10690, saving model to model.hdf5\n",
      "1603/1603 [==============================] - 0s - loss: 0.1115 - regression_loss: 6.2695e-05 - class_loss: 0.5570 - val_loss: 0.1069 - val_regression_loss: 4.8078e-05 - val_class_loss: 0.5342\n",
      "Epoch 164/200\n",
      "1600/1603 [============================>.] - ETA: 0s - loss: 0.1124 - regression_loss: 9.3316e-05 - class_loss: 0.5615Epoch 00163: val_loss did not improve\n",
      "1603/1603 [==============================] - 0s - loss: 0.1127 - regression_loss: 9.3334e-05 - class_loss: 0.5628 - val_loss: 0.1072 - val_regression_loss: 2.0159e-04 - val_class_loss: 0.5348\n",
      "Epoch 165/200\n",
      "1600/1603 [============================>.] - ETA: 0s - loss: 0.1142 - regression_loss: 7.6378e-05 - class_loss: 0.5709Epoch 00164: val_loss did not improve\n",
      "1603/1603 [==============================] - 0s - loss: 0.1142 - regression_loss: 7.6387e-05 - class_loss: 0.5704 - val_loss: 0.1086 - val_regression_loss: 7.4577e-05 - val_class_loss: 0.5427\n",
      "Epoch 166/200\n",
      "1500/1603 [===========================>..] - ETA: 0s - loss: 0.1125 - regression_loss: 5.9845e-05 - class_loss: 0.5623Epoch 00165: val_loss did not improve\n",
      "1603/1603 [==============================] - 0s - loss: 0.1129 - regression_loss: 5.8472e-05 - class_loss: 0.5643 - val_loss: 0.1081 - val_regression_loss: 1.2539e-05 - val_class_loss: 0.5403\n",
      "Epoch 167/200\n",
      "1500/1603 [===========================>..] - ETA: 0s - loss: 0.1123 - regression_loss: 1.7366e-04 - class_loss: 0.5606Epoch 00166: val_loss did not improve\n",
      "1603/1603 [==============================] - 0s - loss: 0.1123 - regression_loss: 1.6564e-04 - class_loss: 0.5608 - val_loss: 0.1072 - val_regression_loss: 9.3932e-06 - val_class_loss: 0.5358\n",
      "Epoch 168/200\n",
      "1450/1603 [==========================>...] - ETA: 0s - loss: 0.1131 - regression_loss: 7.1662e-05 - class_loss: 0.5649Epoch 00167: val_loss did not improve\n",
      "1603/1603 [==============================] - 0s - loss: 0.1139 - regression_loss: 8.6859e-05 - class_loss: 0.5692 - val_loss: 0.1093 - val_regression_loss: 1.1555e-05 - val_class_loss: 0.5463\n",
      "Epoch 169/200\n",
      "1450/1603 [==========================>...] - ETA: 0s - loss: 0.1114 - regression_loss: 6.2394e-05 - class_loss: 0.5566Epoch 00168: val_loss did not improve\n",
      "1603/1603 [==============================] - 0s - loss: 0.1115 - regression_loss: 6.1689e-05 - class_loss: 0.5574 - val_loss: 0.1083 - val_regression_loss: 3.5854e-05 - val_class_loss: 0.5413\n",
      "Epoch 170/200\n",
      "1600/1603 [============================>.] - ETA: 0s - loss: 0.1134 - regression_loss: 6.8435e-05 - class_loss: 0.5664Epoch 00169: val_loss did not improve\n",
      "1603/1603 [==============================] - 0s - loss: 0.1133 - regression_loss: 6.8316e-05 - class_loss: 0.5661 - val_loss: 0.1093 - val_regression_loss: 1.0457e-05 - val_class_loss: 0.5463\n",
      "Epoch 171/200\n",
      "1550/1603 [============================>.] - ETA: 0s - loss: 0.1148 - regression_loss: 5.4192e-05 - class_loss: 0.5739Epoch 00170: val_loss did not improve\n",
      "1603/1603 [==============================] - 0s - loss: 0.1143 - regression_loss: 5.3658e-05 - class_loss: 0.5714 - val_loss: 0.1080 - val_regression_loss: 9.6947e-05 - val_class_loss: 0.5397\n",
      "Epoch 172/200\n",
      "1550/1603 [============================>.] - ETA: 0s - loss: 0.1119 - regression_loss: 6.2471e-05 - class_loss: 0.5593Epoch 00171: val_loss did not improve\n",
      "1603/1603 [==============================] - 0s - loss: 0.1119 - regression_loss: 6.2126e-05 - class_loss: 0.5594 - val_loss: 0.1084 - val_regression_loss: 1.6451e-05 - val_class_loss: 0.5421\n",
      "Epoch 173/200\n",
      "1500/1603 [===========================>..] - ETA: 0s - loss: 0.1139 - regression_loss: 1.1069e-04 - class_loss: 0.5689Epoch 00172: val_loss did not improve\n",
      "1603/1603 [==============================] - 0s - loss: 0.1131 - regression_loss: 1.0558e-04 - class_loss: 0.5651 - val_loss: 0.1080 - val_regression_loss: 4.0032e-05 - val_class_loss: 0.5398\n",
      "Epoch 174/200\n",
      "1450/1603 [==========================>...] - ETA: 0s - loss: 0.1132 - regression_loss: 5.6884e-05 - class_loss: 0.5658Epoch 00173: val_loss did not improve\n",
      "1603/1603 [==============================] - 0s - loss: 0.1131 - regression_loss: 5.8443e-05 - class_loss: 0.5654 - val_loss: 0.1076 - val_regression_loss: 8.1278e-05 - val_class_loss: 0.5376\n",
      "Epoch 175/200\n",
      "1550/1603 [============================>.] - ETA: 0s - loss: 0.1111 - regression_loss: 5.9503e-05 - class_loss: 0.5550Epoch 00174: val_loss did not improve\n",
      "1603/1603 [==============================] - 0s - loss: 0.1116 - regression_loss: 5.9815e-05 - class_loss: 0.5575 - val_loss: 0.1070 - val_regression_loss: 1.7354e-05 - val_class_loss: 0.5351\n",
      "Epoch 176/200\n",
      "1550/1603 [============================>.] - ETA: 0s - loss: 0.1125 - regression_loss: 5.7268e-05 - class_loss: 0.5622Epoch 00175: val_loss did not improve\n",
      "1603/1603 [==============================] - 0s - loss: 0.1130 - regression_loss: 5.6861e-05 - class_loss: 0.5646 - val_loss: 0.1085 - val_regression_loss: 1.2335e-05 - val_class_loss: 0.5423\n",
      "Epoch 177/200\n",
      "1600/1603 [============================>.] - ETA: 0s - loss: 0.1120 - regression_loss: 4.3216e-05 - class_loss: 0.5599Epoch 00176: val_loss improved from 0.10690 to 0.10659, saving model to model.hdf5\n"
     ]
    },
    {
     "name": "stdout",
     "output_type": "stream",
     "text": [
      "1603/1603 [==============================] - 0s - loss: 0.1120 - regression_loss: 4.3315e-05 - class_loss: 0.5596 - val_loss: 0.1066 - val_regression_loss: 1.6095e-05 - val_class_loss: 0.5328\n",
      "Epoch 178/200\n",
      "1600/1603 [============================>.] - ETA: 0s - loss: 0.1125 - regression_loss: 4.8142e-05 - class_loss: 0.5624Epoch 00177: val_loss did not improve\n",
      "1603/1603 [==============================] - 0s - loss: 0.1125 - regression_loss: 4.8097e-05 - class_loss: 0.5623 - val_loss: 0.1082 - val_regression_loss: 9.5589e-05 - val_class_loss: 0.5404\n",
      "Epoch 179/200\n",
      "1450/1603 [==========================>...] - ETA: 0s - loss: 0.1136 - regression_loss: 7.5113e-05 - class_loss: 0.5674Epoch 00178: val_loss did not improve\n",
      "1603/1603 [==============================] - 0s - loss: 0.1130 - regression_loss: 8.2661e-05 - class_loss: 0.5644 - val_loss: 0.1092 - val_regression_loss: 1.2002e-05 - val_class_loss: 0.5462\n",
      "Epoch 180/200\n",
      "1600/1603 [============================>.] - ETA: 0s - loss: 0.1127 - regression_loss: 7.0697e-05 - class_loss: 0.5631Epoch 00179: val_loss did not improve\n",
      "1603/1603 [==============================] - 0s - loss: 0.1126 - regression_loss: 7.0902e-05 - class_loss: 0.5628 - val_loss: 0.1069 - val_regression_loss: 8.4702e-05 - val_class_loss: 0.5339\n",
      "Epoch 181/200\n",
      "1450/1603 [==========================>...] - ETA: 0s - loss: 0.1106 - regression_loss: 6.5679e-05 - class_loss: 0.5525Epoch 00180: val_loss improved from 0.10659 to 0.10616, saving model to model.hdf5\n",
      "1603/1603 [==============================] - 0s - loss: 0.1114 - regression_loss: 6.3828e-05 - class_loss: 0.5569 - val_loss: 0.1062 - val_regression_loss: 4.4962e-05 - val_class_loss: 0.5306\n",
      "Epoch 182/200\n",
      "1600/1603 [============================>.] - ETA: 0s - loss: 0.1140 - regression_loss: 6.2517e-05 - class_loss: 0.5698Epoch 00181: val_loss did not improve\n",
      "1603/1603 [==============================] - 0s - loss: 0.1139 - regression_loss: 6.2408e-05 - class_loss: 0.5691 - val_loss: 0.1073 - val_regression_loss: 1.3696e-05 - val_class_loss: 0.5363\n",
      "Epoch 183/200\n",
      "1600/1603 [============================>.] - ETA: 0s - loss: 0.1131 - regression_loss: 4.7944e-05 - class_loss: 0.5651Epoch 00182: val_loss did not improve\n",
      "1603/1603 [==============================] - 0s - loss: 0.1130 - regression_loss: 4.7887e-05 - class_loss: 0.5647 - val_loss: 0.1070 - val_regression_loss: 4.6349e-05 - val_class_loss: 0.5346\n",
      "Epoch 184/200\n",
      "1600/1603 [============================>.] - ETA: 0s - loss: 0.1121 - regression_loss: 5.2904e-05 - class_loss: 0.5604Epoch 00183: val_loss did not improve\n",
      "1603/1603 [==============================] - 0s - loss: 0.1123 - regression_loss: 5.2816e-05 - class_loss: 0.5610 - val_loss: 0.1066 - val_regression_loss: 1.3479e-05 - val_class_loss: 0.5331\n",
      "Epoch 185/200\n",
      "1550/1603 [============================>.] - ETA: 0s - loss: 0.1125 - regression_loss: 4.7156e-05 - class_loss: 0.5620Epoch 00184: val_loss did not improve\n",
      "1603/1603 [==============================] - 0s - loss: 0.1126 - regression_loss: 4.8164e-05 - class_loss: 0.5626 - val_loss: 0.1094 - val_regression_loss: 1.2632e-04 - val_class_loss: 0.5462\n",
      "Epoch 186/200\n",
      "1550/1603 [============================>.] - ETA: 0s - loss: 0.1095 - regression_loss: 1.2382e-04 - class_loss: 0.5471Epoch 00185: val_loss did not improve\n",
      "1603/1603 [==============================] - 0s - loss: 0.1096 - regression_loss: 1.2139e-04 - class_loss: 0.5473 - val_loss: 0.1074 - val_regression_loss: 1.0729e-05 - val_class_loss: 0.5368\n",
      "Epoch 187/200\n",
      "1500/1603 [===========================>..] - ETA: 0s - loss: 0.1130 - regression_loss: 6.1458e-05 - class_loss: 0.5646Epoch 00186: val_loss did not improve\n",
      "1603/1603 [==============================] - 0s - loss: 0.1133 - regression_loss: 5.9972e-05 - class_loss: 0.5661 - val_loss: 0.1072 - val_regression_loss: 1.1507e-05 - val_class_loss: 0.5360\n",
      "Epoch 188/200\n",
      "1500/1603 [===========================>..] - ETA: 0s - loss: 0.1120 - regression_loss: 4.7328e-05 - class_loss: 0.5598Epoch 00187: val_loss did not improve\n",
      "1603/1603 [==============================] - 0s - loss: 0.1113 - regression_loss: 5.0556e-05 - class_loss: 0.5560 - val_loss: 0.1082 - val_regression_loss: 2.5421e-05 - val_class_loss: 0.5407\n",
      "Epoch 189/200\n",
      "1600/1603 [============================>.] - ETA: 0s - loss: 0.1095 - regression_loss: 5.1195e-05 - class_loss: 0.5474Epoch 00188: val_loss did not improve\n",
      "1603/1603 [==============================] - 0s - loss: 0.1097 - regression_loss: 5.1114e-05 - class_loss: 0.5484 - val_loss: 0.1078 - val_regression_loss: 9.1896e-06 - val_class_loss: 0.5392\n",
      "Epoch 190/200\n",
      "1600/1603 [============================>.] - ETA: 0s - loss: 0.1139 - regression_loss: 4.9355e-05 - class_loss: 0.5693Epoch 00189: val_loss did not improve\n",
      "1603/1603 [==============================] - 0s - loss: 0.1140 - regression_loss: 4.9330e-05 - class_loss: 0.5698 - val_loss: 0.1079 - val_regression_loss: 7.2128e-05 - val_class_loss: 0.5392\n",
      "Epoch 191/200\n",
      "1550/1603 [============================>.] - ETA: 0s - loss: 0.1106 - regression_loss: 5.2760e-05 - class_loss: 0.5528Epoch 00190: val_loss did not improve\n",
      "1603/1603 [==============================] - 0s - loss: 0.1110 - regression_loss: 5.2564e-05 - class_loss: 0.5545 - val_loss: 0.1078 - val_regression_loss: 1.0773e-05 - val_class_loss: 0.5387\n",
      "Epoch 192/200\n",
      "1500/1603 [===========================>..] - ETA: 0s - loss: 0.1129 - regression_loss: 4.4716e-05 - class_loss: 0.5642Epoch 00191: val_loss did not improve\n",
      "1603/1603 [==============================] - 0s - loss: 0.1130 - regression_loss: 4.4931e-05 - class_loss: 0.5648 - val_loss: 0.1074 - val_regression_loss: 3.4098e-05 - val_class_loss: 0.5368\n",
      "Epoch 193/200\n",
      "1600/1603 [============================>.] - ETA: 0s - loss: 0.1105 - regression_loss: 6.4474e-05 - class_loss: 0.5519Epoch 00192: val_loss did not improve\n",
      "1603/1603 [==============================] - 0s - loss: 0.1103 - regression_loss: 6.4436e-05 - class_loss: 0.5514 - val_loss: 0.1086 - val_regression_loss: 2.3797e-05 - val_class_loss: 0.5429\n",
      "Epoch 194/200\n",
      "1450/1603 [==========================>...] - ETA: 0s - loss: 0.1085 - regression_loss: 8.6521e-05 - class_loss: 0.5421Epoch 00193: val_loss did not improve\n",
      "1603/1603 [==============================] - 0s - loss: 0.1085 - regression_loss: 8.1179e-05 - class_loss: 0.5419 - val_loss: 0.1065 - val_regression_loss: 1.0257e-05 - val_class_loss: 0.5323\n",
      "Epoch 195/200\n",
      "1600/1603 [============================>.] - ETA: 0s - loss: 0.1113 - regression_loss: 5.9698e-05 - class_loss: 0.5564Epoch 00194: val_loss improved from 0.10616 to 0.10608, saving model to model.hdf5\n",
      "1603/1603 [==============================] - 0s - loss: 0.1113 - regression_loss: 5.9611e-05 - class_loss: 0.5563 - val_loss: 0.1061 - val_regression_loss: 1.0054e-05 - val_class_loss: 0.5303\n",
      "Epoch 196/200\n",
      "1500/1603 [===========================>..] - ETA: 0s - loss: 0.1116 - regression_loss: 5.3503e-05 - class_loss: 0.5575Epoch 00195: val_loss did not improve\n",
      "1603/1603 [==============================] - 0s - loss: 0.1103 - regression_loss: 5.2698e-05 - class_loss: 0.5510 - val_loss: 0.1071 - val_regression_loss: 4.4284e-05 - val_class_loss: 0.5350\n",
      "Epoch 197/200\n",
      "1600/1603 [============================>.] - ETA: 0s - loss: 0.1117 - regression_loss: 6.3685e-05 - class_loss: 0.5581Epoch 00196: val_loss did not improve\n",
      "1603/1603 [==============================] - 0s - loss: 0.1116 - regression_loss: 6.3572e-05 - class_loss: 0.5578 - val_loss: 0.1066 - val_regression_loss: 1.1709e-05 - val_class_loss: 0.5332\n",
      "Epoch 198/200\n",
      "1550/1603 [============================>.] - ETA: 0s - loss: 0.1113 - regression_loss: 8.0582e-05 - class_loss: 0.5562Epoch 00197: val_loss did not improve\n",
      "1603/1603 [==============================] - 0s - loss: 0.1121 - regression_loss: 8.0205e-05 - class_loss: 0.5599 - val_loss: 0.1067 - val_regression_loss: 3.2720e-04 - val_class_loss: 0.5317\n",
      "Epoch 199/200\n",
      "1550/1603 [============================>.] - ETA: 0s - loss: 0.1109 - regression_loss: 7.9352e-05 - class_loss: 0.5542Epoch 00198: val_loss did not improve\n"
     ]
    },
    {
     "name": "stdout",
     "output_type": "stream",
     "text": [
      "1603/1603 [==============================] - 0s - loss: 0.1117 - regression_loss: 7.8556e-05 - class_loss: 0.5580 - val_loss: 0.1065 - val_regression_loss: 1.0778e-05 - val_class_loss: 0.5324\n",
      "Epoch 200/200\n",
      "1450/1603 [==========================>...] - ETA: 0s - loss: 0.1124 - regression_loss: 5.5938e-05 - class_loss: 0.5617Epoch 00199: val_loss did not improve\n",
      "1603/1603 [==============================] - 0s - loss: 0.1113 - regression_loss: 5.4924e-05 - class_loss: 0.5561 - val_loss: 0.1073 - val_regression_loss: 6.6134e-05 - val_class_loss: 0.5364\n"
     ]
    }
   ],
   "source": [
    "history = final_model.fit([X_train, X_train_text], [Y_train, Y_train2],\n",
    "\t\tnb_epoch = 200, \n",
    "\t\tbatch_size = 50, #the data processed in one iteration\n",
    "\t\tverbose=1,                        \n",
    "\t\tvalidation_data=([X_test, X_test_text], [Y_test, Y_test2]), \n",
    "\t\tcallbacks=[reduce_lr, checkpointer], shuffle=True)"
   ]
  },
  {
   "cell_type": "markdown",
   "metadata": {},
   "source": [
    "#### Evaluation\n",
    "The below graph shows how the overall training & test losses decreased during training. "
   ]
  },
  {
   "cell_type": "code",
   "execution_count": 17,
   "metadata": {},
   "outputs": [
    {
     "data": {
      "image/png": "[encoded data removed]",
      "text/plain": [
       "<Figure size 432x288 with 1 Axes>"
      ]
     },
     "metadata": {
      "needs_background": "light"
     },
     "output_type": "display_data"
    }
   ],
   "source": [
    "#shows how the overall training & test losses decreased during training\n",
    "plt.figure()\n",
    "plt.plot(history.history['loss'])\n",
    "plt.plot(history.history['val_loss'])\n",
    "plt.title('model loss with epoch=70 batch_size=300')\n",
    "plt.ylabel('loss')\n",
    "plt.xlabel('epoch')\n",
    "plt.legend(['train', 'test'], loc='best')\n",
    "plt.show()"
   ]
  },
  {
   "cell_type": "markdown",
   "metadata": {},
   "source": [
    "Predictions of volatility are shown in blue while the actual volatility is in black. The model is very effective in capturing drastic changes in volatility. Note that these values are normalized (between 0 & 1)."
   ]
  },
  {
   "cell_type": "code",
   "execution_count": 21,
   "metadata": {},
   "outputs": [
    {
     "data": {
      "image/png": "[encoded data removed]",
      "text/plain": [
       "<Figure size 432x288 with 1 Axes>"
      ]
     },
     "metadata": {
      "needs_background": "light"
     },
     "output_type": "display_data"
    }
   ],
   "source": [
    "#test the accuraccy of the model\n",
    "final_model.load_weights(\"model.hdf5\")\n",
    "pred = final_model.predict([X_test, X_test_text])[0]\n",
    "\n",
    "predicted = pred\n",
    "original = Y_test\n",
    "\n",
    "pred2 = final_model.predict([X_test, X_test_text])[1]\n",
    "\n",
    "predicted2 = pred2\n",
    "original2 = Y_test2\n",
    "\n",
    "\n",
    "plt.title('Actual and predicted')\n",
    "plt.plot(original, color='black', label = 'Original data')\n",
    "plt.plot(pred, color='blue', label = 'Predicted data')\n",
    "plt.legend(['original', 'prediction'],loc='best')\n",
    "plt.show()\n"
   ]
  },
  {
   "cell_type": "code",
   "execution_count": 69,
   "metadata": {},
   "outputs": [
    {
     "name": "stdout",
     "output_type": "stream",
     "text": [
      "370\n",
      "370\n",
      "correct catch of the high volatility: 0.7297297297297297\n",
      "[ True  True False False False False False  True  True  True  True  True\n",
      " False False False False False  True  True  True  True False  True  True\n",
      "  True  True  True  True False  True  True  True  True False False False\n",
      " False False False False False False False False  True  True  True  True\n",
      "  True  True  True False False False False  True  True False False  True\n",
      "  True  True  True  True  True False  True  True False False False  True\n",
      "  True  True  True False False False False  True  True False False  True\n",
      "  True  True False  True  True  True  True  True False  True False False\n",
      " False False False False  True False False False False  True  True  True\n",
      " False False  True  True  True  True  True False False False False False\n",
      " False  True  True False False False  True  True  True  True  True  True\n",
      "  True False False False False False False  True  True  True False False\n",
      " False False False False  True False False  True  True  True False False\n",
      " False False False False  True  True  True False False False False  True\n",
      "  True  True False False  True  True  True False False False False False\n",
      " False False False False  True  True  True  True  True  True  True  True\n",
      " False False False  True  True  True False  True  True  True  True  True\n",
      "  True  True  True  True  True False False False False False False False\n",
      " False  True  True  True  True  True False  True  True False  True False\n",
      " False False  True False False False False False False  True  True False\n",
      " False False  True  True False  True  True False False False False False\n",
      " False False False False False False False False False  True  True  True\n",
      " False False  True  True  True False False False False False False False\n",
      " False  True  True  True  True  True  True False  True  True  True  True\n",
      "  True  True  True  True False False False  True  True  True  True  True\n",
      "  True  True  True False False False  True  True  True  True  True False\n",
      " False False  True False  True  True  True  True  True  True  True  True\n",
      " False False False  True False False False False False False False  True\n",
      "  True  True False False False False False False  True  True  True  True\n",
      "  True  True False False  True  True  True  True  True  True False False\n",
      " False False False False  True  True  True  True False False]\n",
      "predict up=origin up 209\n",
      "predict down=origin down 161\n",
      "correct catch of trend: 0.7405405405405405\n",
      "185\n",
      "274\n",
      "[ True  True  True  True  True False False  True  True  True False False\n",
      "  True  True  True False False  True  True  True  True False  True  True\n",
      "  True  True  True  True False  True  True  True  True  True  True  True\n",
      "  True  True  True  True  True  True False  True  True  True  True  True\n",
      "  True False False  True  True  True  True  True  True False  True  True\n",
      "  True  True  True  True  True  True False  True False False False  True\n",
      "  True  True False  True  True  True  True False  True  True  True  True\n",
      "  True  True False  True  True  True  True False  True False  True  True\n",
      "  True False  True  True False  True  True  True  True False  True  True\n",
      " False False  True  True  True  True False  True  True  True  True  True\n",
      "  True False False  True False False  True  True  True  True  True  True\n",
      " False  True  True  True  True  True False  True  True  True  True  True\n",
      " False  True  True  True  True False  True False False False  True  True\n",
      "  True  True  True False  True  True  True  True  True  True False  True\n",
      "  True  True False False  True  True False  True  True  True  True  True\n",
      "  True  True False False  True  True  True  True  True  True  True  True\n",
      " False False False  True  True  True False  True  True  True  True  True\n",
      "  True  True  True  True False  True  True  True  True  True  True False\n",
      " False  True  True  True  True  True  True  True False  True  True  True\n",
      "  True  True False  True  True  True False  True  True  True  True False\n",
      "  True False  True  True False False False  True  True  True  True  True\n",
      "  True  True  True  True  True  True False  True False  True  True  True\n",
      " False False  True  True False  True  True  True  True  True False False\n",
      " False  True  True  True  True  True  True False  True  True  True  True\n",
      "  True  True  True  True False False False  True  True  True  True  True\n",
      "  True  True False False False False  True  True  True  True False  True\n",
      "  True  True  True False  True  True  True  True  True  True  True False\n",
      "  True  True  True False  True  True  True  True  True False False  True\n",
      " False  True  True  True  True  True False False  True  True  True  True\n",
      "  True  True False False  True  True  True False False False  True  True\n",
      "  True  True False False  True False False False  True False]\n"
     ]
    },
    {
     "data": {
      "image/png": "[encoded data removed]",
      "text/plain": [
       "<Figure size 432x288 with 1 Axes>"
      ]
     },
     "metadata": {
      "needs_background": "light"
     },
     "output_type": "display_data"
    },
    {
     "data": {
      "image/png": "[encoded data removed]",
      "text/plain": [
       "<Figure size 432x288 with 1 Axes>"
      ]
     },
     "metadata": {
      "needs_background": "light"
     },
     "output_type": "display_data"
    }
   ],
   "source": [
    "#a = np.array(np.array(pred) >= np.percentile(np.array(Y_test),70))\n",
    "#b=np.array(Y_test >= np.percentile(Y_test,70))\n",
    "a = np.array(np.array(pred) >=np.median(pred))\n",
    "b=np.array(Y_test >= np.median(Y_test))\n",
    "print(len(a))\n",
    "print(len(b))\n",
    "a=np.reshape(a,len(a),1)\n",
    "b=np.reshape(b,len(a),1)\n",
    "c=np.sum(a==b)/len(a==b)\n",
    "print(\"correct catch of the high volatility:\",c)\n",
    "\n",
    "\n",
    "d= np.array(np.array(pred2) >= np.percentile(np.array(pred2),50))\n",
    "d=np.reshape(d,len(a),1)\n",
    "e=np.reshape(Y_test2,len(a),1)\n",
    "pred_up=(d==True)\n",
    "print(pred_up)\n",
    "pred_up[pred_up==False]=\"down\"\n",
    "pred_down=(d==False)\n",
    "pred_down[pred_down==False]=2\n",
    "or_up=(Y_test2==True)\n",
    "or_down=(Y_test2==False)\n",
    "print(\"predict up=origin up\",np.sum(pred_up==or_up))\n",
    "print(\"predict down=origin down\",np.sum(pred_down==or_down))\n",
    "print(\"correct catch of trend:\",np.sum(d==e)/len(d==e))\n",
    "print(np.sum(d))\n",
    "print(np.sum(d==e))\n",
    "print(d==e)\n",
    "plt.title('The predicted movements match the actual situations')\n",
    "plt.plot(np.sort(e==d), color='black', label = 'Prediction of tendency')\n",
    "plt.legend(loc='best')\n",
    "plt.show()\n",
    "\n",
    "plt.plot(e, color='black', label = 'Original data')\n",
    "plt.plot(d, color='blue', label = 'Predicted data')\n",
    "plt.legend(loc='best')\n",
    "plt.show()\n"
   ]
  },
  {
   "cell_type": "code",
   "execution_count": 43,
   "metadata": {},
   "outputs": [],
   "source": [
    "#output \n",
    "pred_0=pd.DataFrame(pred)\n",
    "pred_0.to_csv('pred_volatility.csv',encoding='utf-8')\n",
    "Y_test_0=pd.DataFrame(Y_test)\n",
    "Y_test_0.to_csv('real_volatility.csv',encoding='utf-8')\n",
    "pred2_1=pd.DataFrame(pred2)\n",
    "pred2_1.to_csv('pred_trend.csv',encoding='utf-8')\n",
    "Y_test2_1=pd.DataFrame(Y_test2)\n",
    "Y_test2_1.to_csv('real_trend.csv',encoding='utf-8')"
   ]
  },
  {
   "cell_type": "code",
   "execution_count": 28,
   "metadata": {},
   "outputs": [
    {
     "data": {
      "text/plain": [
       "370"
      ]
     },
     "execution_count": 28,
     "metadata": {},
     "output_type": "execute_result"
    }
   ],
   "source": [
    "len(final_model.predict([X_test, X_test_text])[1])"
   ]
  },
  {
   "cell_type": "code",
   "execution_count": 29,
   "metadata": {},
   "outputs": [
    {
     "name": "stdout",
     "output_type": "stream",
     "text": [
      "0.00014400830899244529\n",
      "0.011449076125334296\n",
      "2.0614862783508694\n"
     ]
    }
   ],
   "source": [
    "#see the accuracy of model from difference\n",
    "print (np.mean(np.square(predicted - original)))\n",
    "print (np.mean(np.abs(predicted - original)))\n",
    "print (np.mean(np.abs((original - predicted) / original)))"
   ]
  },
  {
   "cell_type": "code",
   "execution_count": 30,
   "metadata": {},
   "outputs": [
    {
     "data": {
      "text/plain": [
       "(2, 2)"
      ]
     },
     "execution_count": 30,
     "metadata": {},
     "output_type": "execute_result"
    }
   ],
   "source": [
    "cm=[[107,65],[ 49,126]]\n",
    "cm=np.array(cm)\n",
    "cm.shape\n",
    "#print(final_model.predict([X_test, X_test_text])[0])\n"
   ]
  },
  {
   "cell_type": "markdown",
   "metadata": {},
   "source": [
    "# Implementation of Greedy Investment Strategy  "
   ]
  },
  {
   "cell_type": "code",
   "execution_count": 119,
   "metadata": {},
   "outputs": [],
   "source": [
    "#it can be used to plot the confusion matrix to show the accuracy of prediction of trend\n",
    "def plot_confusion_matrix(cm, classes,\n",
    "                          normalize=False,\n",
    "                          title='Confusion matrix',\n",
    "                          cmap=plt.cm.Blues):\n",
    "\n",
    "    plt.imshow(cm, interpolation='nearest', cmap=cmap)\n",
    "    plt.title(title)\n",
    "    plt.colorbar()\n",
    "    tick_marks = np.arange(len(classes))\n",
    "    plt.xticks(tick_marks, classes, rotation=45)\n",
    "    plt.yticks(tick_marks, classes)\n",
    "\n",
    "    fmt = '.2f' if normalize else 'd'\n",
    "    thresh = cm.max() / 2.\n",
    "    for i, j in itertools.product(range(cm.shape[0]), range(cm.shape[1])):\n",
    "        plt.text(j, i, format(cm[i, j], fmt),\n",
    "                 horizontalalignment=\"center\",\n",
    "                 color=\"white\" if cm[i, j] > thresh else \"black\")\n",
    "\n",
    "    plt.tight_layout()\n",
    "    plt.ylabel('True label')\n",
    "    plt.xlabel('Predicted label')\n",
    "    return cm"
   ]
  },
  {
   "cell_type": "code",
   "execution_count": 372,
   "metadata": {},
   "outputs": [],
   "source": [
    "#cnf_matrix = plot_confusion_matrix(cm, [0, 1])\n",
    "#cnf_matrix"
   ]
  },
  {
   "cell_type": "code",
   "execution_count": 373,
   "metadata": {},
   "outputs": [
    {
     "name": "stdout",
     "output_type": "stream",
     "text": [
      "['AADR' 'AAMC' 'AAU' ... 'ZROZ' 'ZSL' 'ZVV']\n"
     ]
    },
    {
     "data": {
      "text/plain": [
       "261"
      ]
     },
     "execution_count": 373,
     "metadata": {},
     "output_type": "execute_result"
    }
   ],
   "source": [
    "#read data, calculate the total number of trading days and total stock number(读数据，计算16年交易天数和总上市股票数)\n",
    "filename = 'AMEX2016.csv' \n",
    "all_data = pd.read_csv(filename)\n",
    "stock_code_unique=np.unique(all_data[\"X.ticker.\"])\n",
    "date_unique=np.unique(all_data[\"X.date.\"])\n",
    "date_unique_f=pd.DataFrame(date_unique.tolist(),columns=['Date'])\n",
    "print(stock_code_unique)\n",
    "len(stock_code_unique)\n",
    "len(date_unique)\n",
    "#date_unique_f"
   ]
  },
  {
   "cell_type": "code",
   "execution_count": 270,
   "metadata": {},
   "outputs": [],
   "source": [
    "##make return table(制作按stock code 分类的股价表和日回报率表)\n",
    "rerange_table=[]\n",
    "return_table=[]\n",
    "for unit in stock_code_unique:\n",
    "    target=[unit,all_data.loc[all_data[\"X.ticker.\"] == unit,['X.date.','X.close.']]]\n",
    "    return_u=pd.DataFrame(data2change(all_data.loc[all_data[\"X.ticker.\"] == unit,'X.close.']))  \n",
    "    date=pd.DataFrame(np.array(all_data.loc[all_data[\"X.ticker.\"] == unit,['X.date.']]),columns=['Date'])\n",
    "    target_return=pd.DataFrame(data2change(all_data.loc[all_data[\"X.ticker.\"] == unit,'X.close.']),columns=['Return'])\n",
    "    target_return=[unit,pd.concat([date,target_return],axis=1)]\n",
    "    #target_return=[unit,pd.merge(date_unique_f,pd.concat([date,target_return],axis=1),how='outer',left_index=False, right_index=False)]\n",
    "    rerange_table.append(target)\n",
    "    return_table.append(target_return)\n"
   ]
  },
  {
   "cell_type": "code",
   "execution_count": 271,
   "metadata": {},
   "outputs": [
    {
     "data": {
      "text/html": [
       "<div>\n",
       "<style scoped>\n",
       "    .dataframe tbody tr th:only-of-type {\n",
       "        vertical-align: middle;\n",
       "    }\n",
       "\n",
       "    .dataframe tbody tr th {\n",
       "        vertical-align: top;\n",
       "    }\n",
       "\n",
       "    .dataframe thead th {\n",
       "        text-align: right;\n",
       "    }\n",
       "</style>\n",
       "<table border=\"1\" class=\"dataframe\">\n",
       "  <thead>\n",
       "    <tr style=\"text-align: right;\">\n",
       "      <th></th>\n",
       "      <th>Date</th>\n",
       "      <th>Return</th>\n",
       "    </tr>\n",
       "  </thead>\n",
       "  <tbody>\n",
       "    <tr>\n",
       "      <th>0</th>\n",
       "      <td>2016-12-27</td>\n",
       "      <td>0.000000</td>\n",
       "    </tr>\n",
       "    <tr>\n",
       "      <th>1</th>\n",
       "      <td>2016-12-28</td>\n",
       "      <td>0.011111</td>\n",
       "    </tr>\n",
       "    <tr>\n",
       "      <th>2</th>\n",
       "      <td>2016-12-29</td>\n",
       "      <td>0.153846</td>\n",
       "    </tr>\n",
       "    <tr>\n",
       "      <th>3</th>\n",
       "      <td>2016-12-30</td>\n",
       "      <td>-0.009524</td>\n",
       "    </tr>\n",
       "  </tbody>\n",
       "</table>\n",
       "</div>"
      ],
      "text/plain": [
       "         Date    Return\n",
       "0  2016-12-27  0.000000\n",
       "1  2016-12-28  0.011111\n",
       "2  2016-12-29  0.153846\n",
       "3  2016-12-30 -0.009524"
      ]
     },
     "execution_count": 271,
     "metadata": {},
     "output_type": "execute_result"
    }
   ],
   "source": [
    "#return_table[0][1]\n",
    "#a=stock_code_unique.tolist()\n",
    "#a.index('EMX')\n",
    "#return_table[a.index('EMX')][1]\n",
    "#rerange_table[0][1]"
   ]
  },
  {
   "cell_type": "code",
   "execution_count": 11,
   "metadata": {},
   "outputs": [],
   "source": [
    "##generate average return rate and standard deviation form in rolling windows\n",
    "stock_no=len(stock_code_unique)\n",
    "\n",
    "step=1\n",
    "window=30\n",
    "ave=[]\n",
    "for j in range(0,len(stock_code_unique)): \n",
    "    ave_j=[]\n",
    "    for i in range(0, len(date_unique)-window, step): \n",
    "        try:\n",
    "            target_data = return_table[j][1].loc[i:i+window,:]\n",
    "            ave_u=np.mean(target_data.loc[:,['Return']])\n",
    "        except Exception as e:\n",
    "            print ('KEK')\n",
    "            print (e)\n",
    "    #break\n",
    "        ave_j.append(ave_u)\n",
    "    ave_adj=list(map(float,ave_j))\n",
    "        \n",
    "    ave.append(ave_adj)"
   ]
  },
  {
   "cell_type": "code",
   "execution_count": 32,
   "metadata": {},
   "outputs": [
    {
     "name": "stdout",
     "output_type": "stream",
     "text": [
      "(1790, 231)\n"
     ]
    }
   ],
   "source": [
    "#print out the rolling window average return ration table\n",
    "c=np.array(ave)\n",
    "print(c.shape)\n",
    "a=date_unique[-c.shape[1]-1:-1]\n",
    "col=a.tolist()\n",
    "a=stock_code_unique.tolist()\n",
    "index=a\n",
    "ave_df=pd.DataFrame(ave,columns=col,index=index)\n",
    "ave_df\n",
    "ave_df.to_csv('Average_return_window30.csv',encoding='utf-8')"
   ]
  },
  {
   "cell_type": "code",
   "execution_count": 374,
   "metadata": {},
   "outputs": [],
   "source": [
    "price=[]\n",
    "for j in range(0,len(stock_code_unique)): \n",
    "    arr=np.array(rerange_table[j][1].loc[:,'X.close.'])\n",
    "    list=arr.tolist()\n",
    "    price.append(list)\n",
    "col=date_unique.tolist()\n",
    "index=stock_code_unique.tolist()\n",
    "#rerange_table2=pd.DataFrame(price,columns=col,index=index) \n"
   ]
  },
  {
   "cell_type": "code",
   "execution_count": 181,
   "metadata": {},
   "outputs": [],
   "source": [
    "return_rate=[]\n",
    "for j in range(0,len(stock_code_unique)): \n",
    "    arr=np.array(return_table[j][1].loc[:,'Return'])\n",
    "    list=arr.tolist()\n",
    "    return_rate.append(list)\n",
    "col=date_unique.tolist()\n",
    "index=stock_code_unique.tolist()\n",
    "rerange_return_table=pd.DataFrame(return_rate,columns=col,index=index)\n",
    "#rerange_return_table"
   ]
  },
  {
   "cell_type": "code",
   "execution_count": 215,
   "metadata": {},
   "outputs": [],
   "source": [
    "a=date_unique[-len(date_unique)+window-1:-1]\n",
    "col=a.tolist()\n",
    "len(col)\n",
    "price_win=rerange_table2.loc[:,col]\n",
    "a=stock_code_unique.tolist()\n",
    "index=a\n",
    "price_win_df=pd.DataFrame(price_win,columns=col,index=index)\n",
    "price_win_df.to_csv('price_win_win30.csv',encoding='utf-8')\n",
    "#price_win_df"
   ]
  },
  {
   "cell_type": "code",
   "execution_count": 182,
   "metadata": {},
   "outputs": [],
   "source": [
    "a=date_unique[-len(date_unique)+window-1:-1]\n",
    "col=a.tolist()\n",
    "len(col)\n",
    "return_win=rerange_return_table.loc[:,col]\n",
    "a=stock_code_unique.tolist()\n",
    "index=a\n",
    "return_win_df=pd.DataFrame(return_win,columns=col,index=index)\n",
    "return_win_df\n",
    "return_win_df.to_csv('return_win_win30.csv',encoding='utf-8')"
   ]
  },
  {
   "cell_type": "code",
   "execution_count": 81,
   "metadata": {},
   "outputs": [],
   "source": [
    "##generate rolling window average and standard deviation form（20min)\n",
    "std=[]\n",
    "for j in range(0,len(stock_code_unique)): \n",
    "    std_j=[]\n",
    "    for i in range(0, len(date_unique)-window, step): \n",
    "        try:\n",
    "            target_data = rerange_table2.iloc[j,range(i,i+window)]\n",
    "            std_u=np.std(target_data)\n",
    "        except Exception as e:\n",
    "            print ('KEK')\n",
    "            print (e)\n",
    "    #break\n",
    "        std_j.append(std_u)\n",
    "        \n",
    "    std.append(std_j)"
   ]
  },
  {
   "cell_type": "code",
   "execution_count": 88,
   "metadata": {},
   "outputs": [
    {
     "name": "stdout",
     "output_type": "stream",
     "text": [
      "(1790, 231)\n"
     ]
    }
   ],
   "source": [
    "c=np.array(std)\n",
    "print(c.shape)\n",
    "a=date_unique[-c.shape[1]-1:-1]\n",
    "col=a.tolist()\n",
    "a=stock_code_unique.tolist()\n",
    "index=a\n",
    "std_df=pd.DataFrame(std,columns=col,index=index)\n",
    "std_df.to_csv('return_std_win30.csv',encoding='utf-8')"
   ]
  },
  {
   "cell_type": "code",
   "execution_count": null,
   "metadata": {},
   "outputs": [],
   "source": [
    "#sum(return_win_df.iloc[0,:])\n",
    "delet_index=[]\n",
    "where_are_nan = np.isnan(ave_return_rate_m)\n",
    "for i in range(0,len(stock_code_unique)):\n",
    "    s=sum(return_win_df.iloc[i,:])\n",
    "    if np.isnan(s)==1:\n",
    "        delet_index.append(i)\n",
    "delet_index"
   ]
  },
  {
   "cell_type": "code",
   "execution_count": 310,
   "metadata": {},
   "outputs": [
    {
     "data": {
      "text/plain": [
       "(1572, 231)"
      ]
     },
     "execution_count": 310,
     "metadata": {},
     "output_type": "execute_result"
    }
   ],
   "source": [
    "#turn dataframe to matrix\n",
    "return_win_or=np.mat(return_win_df)\n",
    "std_win_or=np.mat(std_df)\n",
    "price_win_or=np.mat(price_win_df)\n",
    "ave_return_rate_or=np.mat(ave_df)\n",
    "#delete abnormal stocks with incompleted price data\n",
    "stock_code_unique_new=np.delete(stock_code_unique, delet_index)\n",
    "return_win_m=np.delete(return_win_or, delet_index, axis=0)\n",
    "std_m=np.delete(std_win_or, delet_index, axis=0)\n",
    "ave_return_rate_m=np.delete(ave_return_rate_or, delet_index, axis=0)\n",
    "price_win_m=np.delete(price_win_or, delet_index, axis=0)"
   ]
  },
  {
   "cell_type": "code",
   "execution_count": 370,
   "metadata": {},
   "outputs": [
    {
     "data": {
      "text/plain": [
       "array([[0.13645188],\n",
       "       [0.09413814],\n",
       "       [0.05430997],\n",
       "       [0.04794218],\n",
       "       [0.04447732],\n",
       "       [0.04057646],\n",
       "       [0.03571788],\n",
       "       [0.02909197],\n",
       "       [0.02888135],\n",
       "       [0.02744617]])"
      ]
     },
     "execution_count": 370,
     "metadata": {},
     "output_type": "execute_result"
    }
   ],
   "source": [
    "#implement the greedy strategy\n",
    "return_per_wave=ave_return_rate_m/(std_m+0.01)\n",
    "select_no=10\n",
    "weight_or,stock_selected_index_or,stock_selected_or,stock_selected_return_per_wave_values_or,potfolio_pro=[],[],[],[],[]\n",
    "for i in range(0,len(date_unique)-window-1):\n",
    "    array=np.array(return_per_wave[:,i])\n",
    "    stock_selected_index_win=heapq.nlargest(select_no, range(len(array)), array.take)\n",
    "    stock_selected_win=stock_code_unique_new[stock_selected_index_win]\n",
    "    stock_selected_return_per_wave_values_win=np.array(heapq.nlargest(select_no, array))\n",
    "    weight_win=stock_selected_return_per_wave_values_win/sum(stock_selected_return_per_wave_value_win)\n",
    "    weight_win_arr=np.array(weight_win)\n",
    "    port=np.multiply(return_win_m[stock_selected_index_win,i+1],weight_win_arr)\n",
    "    s=np.float(sum(port))\n",
    "\n",
    "    weight_or.append(weight_win)\n",
    "    stock_selected_index_or.append(stock_selected_index_win)\n",
    "    stock_selected_or.append(stock_selected_win)\n",
    "    stock_selected_return_per_wave_values_or.append(stock_selected_return_per_wave_values_win)\n",
    "    potfolio_pro.append(s)\n"
   ]
  },
  {
   "cell_type": "code",
   "execution_count": 369,
   "metadata": {},
   "outputs": [
    {
     "data": {
      "text/plain": [
       "[0.13645187890998764,\n",
       " 0.09413813526513767,\n",
       " 0.054309966803136864,\n",
       " 0.047942183329413704,\n",
       " 0.04447732249144779,\n",
       " 0.040576458458563655,\n",
       " 0.0357178795587436,\n",
       " 0.029091972976094192,\n",
       " 0.028881348622263877,\n",
       " 0.02744616549100838]"
      ]
     },
     "execution_count": 369,
     "metadata": {},
     "output_type": "execute_result"
    }
   ],
   "source": [
    "#reshape the array data to two dimensions for ouputing csv dataframe\n",
    "shape=np.array(weight).shape\n",
    "\n",
    "weight=np.array(weight).reshape([shape[0],shape[1]]).tolist()\n",
    "\n",
    "stock_selected_index=np.array(stock_selected_index).reshape([shape[0],shape[1]]).tolist()\n",
    "\n",
    "stock_selected=np.array(stock_selected).reshape([shape[0],shape[1]]).tolist()\n",
    "\n",
    "stock_selected_return_per_wave_values=np.array(stock_selected_return_per_wave_values).reshape([shape[0],shape[1]]).tolist()\n",
    "\n",
    "np.array(weight).shape"
   ]
  },
  {
   "cell_type": "code",
   "execution_count": 371,
   "metadata": {},
   "outputs": [],
   "source": [
    "#output\n",
    "a=date_unique[-len(date_unique)+window:-1]\n",
    "index=a\n",
    "weight_df=pd.DataFrame(weight,index=index)\n",
    "weight_df\n",
    "weight_df.to_csv('weight_win30.csv',encoding='utf-8')\n",
    "\n",
    "stock_selected_index_df=pd.DataFrame(stock_selected_index,index=index)\n",
    "stock_selected_index_df\n",
    "stock_selected_index_df.to_csv('stock_selected_index_win30.csv',encoding='utf-8')\n",
    "\n",
    "stock_selected_df=pd.DataFrame(stock_selected,index=index)\n",
    "stock_selected_df\n",
    "stock_selected_df.to_csv('stock_selected_win30.csv',encoding='utf-8')\n",
    "\n",
    "stock_selected_return_per_wave_values_df=pd.DataFrame(stock_selected_return_per_wave_values,index=index)\n",
    "stock_selected_return_per_wave_values_df\n",
    "stock_selected_return_per_wave_values_df.to_csv('stock_selected_return_per_wave_value_win30.csv',encoding='utf-8')\n",
    "\n",
    "potfolio_pro_df=pd.DataFrame(potfolio_pro,index=index)\n",
    "potfolio_pro_df\n",
    "potfolio_pro_df.to_csv('potfolio_profit_win30.csv',encoding='utf-8')"
   ]
  }
 ],
 "metadata": {
  "kernelspec": {
   "display_name": "Python 3",
   "language": "python",
   "name": "python3"
  },
  "language_info": {
   "codemirror_mode": {
    "name": "ipython",
    "version": 3
   },
   "file_extension": ".py",
   "mimetype": "text/x-python",
   "name": "python",
   "nbconvert_exporter": "python",
   "pygments_lexer": "ipython3",
   "version": "3.7.1"
  }
 },
 "nbformat": 4,
 "nbformat_minor": 1
}
